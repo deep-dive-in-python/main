{
 "cells": [
  {
   "cell_type": "code",
   "execution_count": null,
   "id": "9afc8168-8a1b-4afe-88b5-25f77ced89ac",
   "metadata": {},
   "outputs": [],
   "source": [
    "import pandas as pd\n",
    "import h5py\n",
    "import numpy as np\n",
    "from tqdm import tqdm\n",
    "import matplotlib.pyplot as plt"
   ]
  },
  {
   "cell_type": "code",
   "execution_count": null,
   "id": "9353cef7-481a-41da-9a49-c345085bbc72",
   "metadata": {},
   "outputs": [],
   "source": [
    "#라벨 파일 불러오기\n",
    "train_label = pd.read_csv(\"./input2/train.csv\")\n",
    "print(train_label.head(),train_label.shape())\n",
    "sub_label = pd.read_csv(\"./input2/sample_submission.csv\")\n",
    "print(sub_label.head(), sub_label.shape())\n",
    "\n",
    "#이미지 파일 불러오기\n",
    "train_image = h5py.File(\"train.h5\", 'r')\n",
    "test_image = h5py.File(\"test.h5\", 'r')\n",
    "\n",
    "#이미지와 라벨 파일 합치기\n",
    "train_all = [np.array(train_image[str(i)]) for i in tqdm(train_label[\"ID\"])]\n",
    "test_all = [np.array(test_image[str(i)]) for i in tqdm(sub_label[\"ID\"])]\n",
    "#str은 숫자를 문자열로 바꿔주는 함수\n",
    "\n",
    "print(train_all.head(),test_all.head())"
   ]
  },
  {
   "cell_type": "code",
   "execution_count": null,
   "id": "cdeae208-8ae9-4c3c-b005-24ce1d8f2923",
   "metadata": {},
   "outputs": [],
   "source": [
    "#그래프 객체 지정\n",
    "fig = plt.figure(figsize=(5, 5))\n",
    "ax0 = fig.add_subplot(111, projection=\"3d\")\n",
    "#add_subplot은 그래프를 여러 개 그릴 때 사용하는 함수\n",
    "#인수 abc의 의미: a*b 그리드의 c번째 서브 플롯\n",
    "\n",
    "idx = 40000\n",
    "\n",
    "#데이터가 각각 (x,y,z)점들로 이루어져 있으므로 지정하여 산점도를 그린다.\n",
    "x0 = train_all[idx][:, 0] \n",
    "y0 = train_all[idx][:, 1]\n",
    "z0 = train_all[idx][:, 2]\n",
    "\n",
    "ax0.view_init(0, 0)\n",
    "#3d 그래프의 보여지는 각도를 바꾸는 함수\n",
    "#view_init(a,b)에서 a도만큼 높낮이가 바뀌고 b도만큼 x,y축이 회전한다.\n",
    "ax0.scatter(x0, y0, z0)"
   ]
  },
  {
   "cell_type": "code",
   "execution_count": null,
   "id": "73b965c6-ad3e-4267-bdcd-ab07802fce8e",
   "metadata": {},
   "outputs": [],
   "source": [
    "#다양한 각도 확인\n",
    "ax0.view_init(5, -10)\n",
    "ax0.scatter(x0, y0, z0)"
   ]
  },
  {
   "cell_type": "code",
   "execution_count": null,
   "id": "a51039bd-d6ca-4334-9cf4-0bd2c2dc1dde",
   "metadata": {},
   "outputs": [],
   "source": [
    "ax0.view_init(30, 60)\n",
    "ax0.scatter(x0, y0, z0)"
   ]
  },
  {
   "cell_type": "code",
   "execution_count": null,
   "id": "28b8f09b-f2ed-48f2-848a-103b826bbf8c",
   "metadata": {},
   "outputs": [],
   "source": [
    "fig = plt.figure(figsize=(5, 5))\n",
    "ax1 = fig.add_subplot(111, projection=\"3d\")\n",
    "\n",
    "idx = 6000\n",
    "\n",
    "x1 = test_all[idx][:, 0]\n",
    "y1 = test_all[idx][:, 1]\n",
    "z1 = test_all[idx][:, 2]\n",
    "\n",
    "ax1.view_init(0, 0)\n",
    "ax1.scatter(x1, y1, z1)"
   ]
  },
  {
   "cell_type": "code",
   "execution_count": null,
   "id": "4f65c789-864d-4eaf-b6ab-5105978cf3e1",
   "metadata": {},
   "outputs": [],
   "source": [
    "ax1.view_init(5, -10)\n",
    "ax1.scatter(x1, y1, z1)"
   ]
  },
  {
   "cell_type": "code",
   "execution_count": null,
   "id": "326d353f-9820-4c1f-b176-9a997083847b",
   "metadata": {},
   "outputs": [],
   "source": [
    "ax1.view_init(30, 60)\n",
    "ax1.scatter(x1, y1, z1)"
   ]
  },
  {
   "cell_type": "code",
   "execution_count": null,
   "id": "11fee0d4-6717-44c5-ba8e-7ee772c20b54",
   "metadata": {},
   "outputs": [],
   "source": []
  },
  {
   "cell_type": "code",
   "execution_count": null,
   "id": "7ad930a5-0752-41f4-a33f-47037e484a8e",
   "metadata": {},
   "outputs": [],
   "source": []
  },
  {
   "cell_type": "code",
   "execution_count": null,
   "id": "a587cec8-01c2-4a28-9f04-319d2cf89484",
   "metadata": {},
   "outputs": [],
   "source": []
  },
  {
   "cell_type": "code",
   "execution_count": null,
   "id": "42cf408c-db77-4911-b0c1-c0a3670e81f0",
   "metadata": {},
   "outputs": [],
   "source": []
  }
 ],
 "metadata": {
  "kernelspec": {
   "display_name": "Python 3 (ipykernel)",
   "language": "python",
   "name": "python3"
  },
  "language_info": {
   "codemirror_mode": {
    "name": "ipython",
    "version": 3
   },
   "file_extension": ".py",
   "mimetype": "text/x-python",
   "name": "python",
   "nbconvert_exporter": "python",
   "pygments_lexer": "ipython3",
   "version": "3.9.12"
  }
 },
 "nbformat": 4,
 "nbformat_minor": 5
}
