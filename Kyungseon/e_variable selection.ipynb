{
 "cells": [
  {
   "cell_type": "code",
   "execution_count": 1,
   "metadata": {},
   "outputs": [
    {
     "name": "stderr",
     "output_type": "stream",
     "text": [
      "/usr/lib/python3.5/importlib/_bootstrap.py:222: RuntimeWarning: numpy.dtype size changed, may indicate binary incompatibility. Expected 96, got 88\n",
      "  return f(*args, **kwds)\n",
      "/usr/lib/python3.5/importlib/_bootstrap.py:222: RuntimeWarning: numpy.dtype size changed, may indicate binary incompatibility. Expected 96, got 88\n",
      "  return f(*args, **kwds)\n",
      "/usr/lib/python3.5/importlib/_bootstrap.py:222: RuntimeWarning: numpy.dtype size changed, may indicate binary incompatibility. Expected 96, got 88\n",
      "  return f(*args, **kwds)\n"
     ]
    }
   ],
   "source": [
    "import random\n",
    "import pandas as pd\n",
    "import numpy as np\n",
    "import os\n",
    "import torch\n",
    "import torch.nn as nn\n",
    "import torch.optim as optim\n",
    "import torch.nn.functional as F\n",
    "from torch.utils.data import Dataset, DataLoader\n",
    "import tqdm\n",
    "from sklearn.metrics import f1_score\n",
    "import matplotlib.pyplot as plt"
   ]
  },
  {
   "cell_type": "code",
   "execution_count": 2,
   "metadata": {},
   "outputs": [],
   "source": [
    "device = torch.device('cuda') if torch.cuda.is_available() else torch.device('cpu')"
   ]
  },
  {
   "cell_type": "code",
   "execution_count": 3,
   "metadata": {},
   "outputs": [
    {
     "name": "stdout",
     "output_type": "stream",
     "text": [
      "             V1        V2         V3         V4        V5        V6  \\\n",
      "71    -3.043541 -3.157307   1.088463   2.288644  1.359805 -1.064823   \n",
      "641    0.316459  3.809076  -5.615159   6.047445  1.554026 -2.651353   \n",
      "677    0.857321  4.093912  -7.423894   7.380245  0.973366 -2.730762   \n",
      "836   -1.426623  4.141986  -9.804103   6.666273 -4.749527 -2.073129   \n",
      "1196 -16.367923  9.223692 -23.270631  11.844777 -9.462037 -2.450444   \n",
      "\n",
      "             V7        V8        V9        V10  ...         V22       V23  \\\n",
      "71     0.325574 -0.067794 -0.270953  -0.838587  ...    0.435477  1.375966   \n",
      "641   -0.746579  0.055586 -2.678679  -4.959493  ...   -0.511747 -0.583813   \n",
      "677   -1.496497  0.543015 -2.351190  -3.944238  ...    0.145400  0.240603   \n",
      "836  -10.089931  2.791345 -3.249516 -11.420451  ...    0.407809  0.605809   \n",
      "1196 -16.925152  1.384208 -6.287736 -13.002709  ...    1.004602  1.188212   \n",
      "\n",
      "           V24       V25       V26       V27       V28       V29       V30  \\\n",
      "71   -0.293803  0.279798 -0.145362 -0.252773  0.035764  7.084469 -0.989438   \n",
      "641  -0.219845  1.474753  0.491192  0.518868  0.402528 -0.293440 -0.906272   \n",
      "677  -0.234649 -1.004881  0.435832  0.618324  0.148469 -0.293440 -0.899012   \n",
      "836  -0.769348 -1.746337  0.502040  1.977258  0.711607 -0.293440 -0.864214   \n",
      "1196 -1.047184 -0.035573  0.664900  2.122796 -1.416741 -0.293440 -0.749081   \n",
      "\n",
      "      Class  \n",
      "71        1  \n",
      "641       1  \n",
      "677       1  \n",
      "836       1  \n",
      "1196      1  \n",
      "\n",
      "[5 rows x 31 columns]\n"
     ]
    }
   ],
   "source": [
    "train_df = pd.read_csv('./input/train.csv')\n",
    "train_df = train_df.drop(columns=['ID'])\n",
    "val_df = pd.read_csv('./input/val.csv')\n",
    "val_c=val_df['Class']\n",
    "val_df = val_df.drop(columns=['ID'])\n",
    "val_fraud=val_df[val_df['Class']==1]\n",
    "val_re=val_df.drop(columns=['Class'])\n",
    "\n",
    "print(val_fraud.head())"
   ]
  },
  {
   "cell_type": "code",
   "execution_count": null,
   "metadata": {},
   "outputs": [],
   "source": [
    "plt.hist(val_re,bins = 50, figsize = (20,20),color='g')"
   ]
  },
  {
   "cell_type": "code",
   "execution_count": null,
   "metadata": {},
   "outputs": [],
   "source": [
    "plt.hist(val_fraud,bins=50,figsize=(20,20), color='r')"
   ]
  },
  {
   "cell_type": "code",
   "execution_count": null,
   "metadata": {},
   "outputs": [],
   "source": [
    "plt.show()"
   ]
  },
  {
   "cell_type": "code",
   "execution_count": null,
   "metadata": {},
   "outputs": [],
   "source": []
  },
  {
   "cell_type": "code",
   "execution_count": null,
   "metadata": {},
   "outputs": [],
   "source": []
  }
 ],
 "metadata": {
  "kernelspec": {
   "display_name": "Python 3",
   "language": "python",
   "name": "python3"
  },
  "language_info": {
   "codemirror_mode": {
    "name": "ipython",
    "version": 3
   },
   "file_extension": ".py",
   "mimetype": "text/x-python",
   "name": "python",
   "nbconvert_exporter": "python",
   "pygments_lexer": "ipython3",
   "version": "3.5.2"
  }
 },
 "nbformat": 4,
 "nbformat_minor": 5
}
