{
 "cells": [
  {
   "cell_type": "markdown",
   "id": "24fd5095",
   "metadata": {},
   "source": [
    "# Matplotlib 퀴즈"
   ]
  },
  {
   "cell_type": "code",
   "execution_count": 1,
   "id": "c88c2e18",
   "metadata": {},
   "outputs": [
    {
     "data": {
      "text/html": [
       "<div>\n",
       "<style scoped>\n",
       "    .dataframe tbody tr th:only-of-type {\n",
       "        vertical-align: middle;\n",
       "    }\n",
       "\n",
       "    .dataframe tbody tr th {\n",
       "        vertical-align: top;\n",
       "    }\n",
       "\n",
       "    .dataframe thead th {\n",
       "        text-align: right;\n",
       "    }\n",
       "</style>\n",
       "<table border=\"1\" class=\"dataframe\">\n",
       "  <thead>\n",
       "    <tr style=\"text-align: right;\">\n",
       "      <th></th>\n",
       "      <th>영화</th>\n",
       "      <th>개봉 연도</th>\n",
       "      <th>관객 수</th>\n",
       "      <th>평점</th>\n",
       "    </tr>\n",
       "  </thead>\n",
       "  <tbody>\n",
       "    <tr>\n",
       "      <th>0</th>\n",
       "      <td>명량</td>\n",
       "      <td>2014</td>\n",
       "      <td>1761</td>\n",
       "      <td>8.88</td>\n",
       "    </tr>\n",
       "    <tr>\n",
       "      <th>1</th>\n",
       "      <td>극한직업</td>\n",
       "      <td>2019</td>\n",
       "      <td>1626</td>\n",
       "      <td>9.20</td>\n",
       "    </tr>\n",
       "    <tr>\n",
       "      <th>2</th>\n",
       "      <td>신과함께-죄와 벌</td>\n",
       "      <td>2017</td>\n",
       "      <td>1441</td>\n",
       "      <td>8.73</td>\n",
       "    </tr>\n",
       "    <tr>\n",
       "      <th>3</th>\n",
       "      <td>국제시장</td>\n",
       "      <td>2014</td>\n",
       "      <td>1426</td>\n",
       "      <td>9.16</td>\n",
       "    </tr>\n",
       "    <tr>\n",
       "      <th>4</th>\n",
       "      <td>괴물</td>\n",
       "      <td>2006</td>\n",
       "      <td>1301</td>\n",
       "      <td>8.62</td>\n",
       "    </tr>\n",
       "    <tr>\n",
       "      <th>5</th>\n",
       "      <td>도둑들</td>\n",
       "      <td>2012</td>\n",
       "      <td>1298</td>\n",
       "      <td>7.64</td>\n",
       "    </tr>\n",
       "    <tr>\n",
       "      <th>6</th>\n",
       "      <td>7번방의 선물</td>\n",
       "      <td>2013</td>\n",
       "      <td>1281</td>\n",
       "      <td>8.83</td>\n",
       "    </tr>\n",
       "    <tr>\n",
       "      <th>7</th>\n",
       "      <td>암살</td>\n",
       "      <td>2015</td>\n",
       "      <td>1270</td>\n",
       "      <td>9.10</td>\n",
       "    </tr>\n",
       "  </tbody>\n",
       "</table>\n",
       "</div>"
      ],
      "text/plain": [
       "          영화  개봉 연도  관객 수    평점\n",
       "0         명량   2014  1761  8.88\n",
       "1       극한직업   2019  1626  9.20\n",
       "2  신과함께-죄와 벌   2017  1441  8.73\n",
       "3       국제시장   2014  1426  9.16\n",
       "4         괴물   2006  1301  8.62\n",
       "5        도둑들   2012  1298  7.64\n",
       "6    7번방의 선물   2013  1281  8.83\n",
       "7         암살   2015  1270  9.10"
      ]
     },
     "execution_count": 1,
     "metadata": {},
     "output_type": "execute_result"
    }
   ],
   "source": [
    "import pandas as pd\n",
    "import matplotlib.pyplot as plt\n",
    "import matplotlib\n",
    "matplotlib.rcParams['font.family'] = 'Malgun Gothic' # Windows\n",
    "# matplotlib.rcParams['font.family'] = 'AppleGothic' # Mac\n",
    "matplotlib.rcParams['font.size'] = 15\n",
    "matplotlib.rcParams['axes.unicode_minus'] = False\n",
    "\n",
    "data = {\n",
    "    '영화' : ['명량', '극한직업', '신과함께-죄와 벌', '국제시장', '괴물', '도둑들', '7번방의 선물', '암살'],\n",
    "    '개봉 연도' : [2014, 2019, 2017, 2014, 2006, 2012, 2013, 2015],\n",
    "    '관객 수' : [1761, 1626, 1441, 1426, 1301, 1298, 1281, 1270], # (단위 : 만 명)\n",
    "    '평점' : [8.88, 9.20, 8.73, 9.16, 8.62, 7.64, 8.83, 9.10]\n",
    "}\n",
    "df = pd.DataFrame(data)\n",
    "df"
   ]
  },
  {
   "cell_type": "markdown",
   "id": "582e76a6",
   "metadata": {},
   "source": [
    "# 1)영화데이터를 통한 x축,y축 막대그래프 그리기"
   ]
  },
  {
   "cell_type": "code",
   "execution_count": 7,
   "id": "7da75334",
   "metadata": {},
   "outputs": [
    {
     "data": {
      "text/plain": [
       "<BarContainer object of 8 artists>"
      ]
     },
     "execution_count": 7,
     "metadata": {},
     "output_type": "execute_result"
    },
    {
     "data": {
      "image/png": "[encoded data removed]",
      "text/plain": [
       "<Figure size 720x360 with 1 Axes>"
      ]
     },
     "metadata": {
      "needs_background": "light"
     },
     "output_type": "display_data"
    }
   ],
   "source": [
    "plt.figure(figsize=(10,5))\n",
    "plt.bar(df['영화'], df['평점'])"
   ]
  },
  {
   "cell_type": "markdown",
   "id": "20563b8c",
   "metadata": {},
   "source": [
    "# 2) 앞에서 만든 막대 그래프에 제시된 세부사항 적용\n",
    "\n",
    " 제목 : 국내 Top8 영화 평점 정보, x축 label = 영화(90도 회전), y축 label : 평점"
   ]
  },
  {
   "cell_type": "code",
   "execution_count": 21,
   "id": "de82e303",
   "metadata": {},
   "outputs": [
    {
     "data": {
      "image/png": "[encoded data removed]",
      "text/plain": [
       "<Figure size 720x360 with 1 Axes>"
      ]
     },
     "metadata": {
      "needs_background": "light"
     },
     "output_type": "display_data"
    }
   ],
   "source": [
    "plt.figure(figsize=(10,5))\n",
    "plt.bar(df['영화'], df['평점'])\n",
    "plt.title('국내 Top8 영화 평점 정보')\n",
    "#plt.xlabel('영화', rotate)\n",
    "plt.xlabel('영화')\n",
    "plt.xticks(rotation=90)\n",
    "plt.ylabel('평점')\n",
    "plt.show()"
   ]
  },
  {
   "cell_type": "markdown",
   "id": "70a52cb6",
   "metadata": {},
   "source": [
    "# 3) 개봉 연도별 평점 변화 추이를 꺾은선 그래프로 그리시오\n",
    "연도별 평균데이터를 구하는 코드"
   ]
  },
  {
   "cell_type": "code",
   "execution_count": 22,
   "id": "9a3da40f",
   "metadata": {},
   "outputs": [
    {
     "data": {
      "text/html": [
       "<div>\n",
       "<style scoped>\n",
       "    .dataframe tbody tr th:only-of-type {\n",
       "        vertical-align: middle;\n",
       "    }\n",
       "\n",
       "    .dataframe tbody tr th {\n",
       "        vertical-align: top;\n",
       "    }\n",
       "\n",
       "    .dataframe thead th {\n",
       "        text-align: right;\n",
       "    }\n",
       "</style>\n",
       "<table border=\"1\" class=\"dataframe\">\n",
       "  <thead>\n",
       "    <tr style=\"text-align: right;\">\n",
       "      <th></th>\n",
       "      <th>관객 수</th>\n",
       "      <th>평점</th>\n",
       "    </tr>\n",
       "    <tr>\n",
       "      <th>개봉 연도</th>\n",
       "      <th></th>\n",
       "      <th></th>\n",
       "    </tr>\n",
       "  </thead>\n",
       "  <tbody>\n",
       "    <tr>\n",
       "      <th>2006</th>\n",
       "      <td>1301.0</td>\n",
       "      <td>8.62</td>\n",
       "    </tr>\n",
       "    <tr>\n",
       "      <th>2012</th>\n",
       "      <td>1298.0</td>\n",
       "      <td>7.64</td>\n",
       "    </tr>\n",
       "    <tr>\n",
       "      <th>2013</th>\n",
       "      <td>1281.0</td>\n",
       "      <td>8.83</td>\n",
       "    </tr>\n",
       "    <tr>\n",
       "      <th>2014</th>\n",
       "      <td>1593.5</td>\n",
       "      <td>9.02</td>\n",
       "    </tr>\n",
       "    <tr>\n",
       "      <th>2015</th>\n",
       "      <td>1270.0</td>\n",
       "      <td>9.10</td>\n",
       "    </tr>\n",
       "    <tr>\n",
       "      <th>2017</th>\n",
       "      <td>1441.0</td>\n",
       "      <td>8.73</td>\n",
       "    </tr>\n",
       "    <tr>\n",
       "      <th>2019</th>\n",
       "      <td>1626.0</td>\n",
       "      <td>9.20</td>\n",
       "    </tr>\n",
       "  </tbody>\n",
       "</table>\n",
       "</div>"
      ],
      "text/plain": [
       "         관객 수    평점\n",
       "개봉 연도              \n",
       "2006   1301.0  8.62\n",
       "2012   1298.0  7.64\n",
       "2013   1281.0  8.83\n",
       "2014   1593.5  9.02\n",
       "2015   1270.0  9.10\n",
       "2017   1441.0  8.73\n",
       "2019   1626.0  9.20"
      ]
     },
     "execution_count": 22,
     "metadata": {},
     "output_type": "execute_result"
    }
   ],
   "source": [
    "df_group = df.groupby('개봉 연도').mean()\n",
    "df_group"
   ]
  },
  {
   "cell_type": "code",
   "execution_count": 24,
   "id": "66555e4f",
   "metadata": {},
   "outputs": [
    {
     "data": {
      "text/plain": [
       "[<matplotlib.lines.Line2D at 0x2051dbbae80>]"
      ]
     },
     "execution_count": 24,
     "metadata": {},
     "output_type": "execute_result"
    },
    {
     "data": {
      "image/png": "[encoded data removed]",
      "text/plain": [
       "<Figure size 432x288 with 1 Axes>"
      ]
     },
     "metadata": {
      "needs_background": "light"
     },
     "output_type": "display_data"
    }
   ],
   "source": [
    "plt.plot(df_group.index, df_group['평점'])"
   ]
  },
  {
   "cell_type": "markdown",
   "id": "5753023c",
   "metadata": {},
   "source": [
    "# 4) 앞에서 만든 그래프에 제시된 세부사항을 적용하시오\n",
    "- marker : 'o' , 'x축눈금' : 5년단위(2005, 2010, 2015, 2020)\n",
    "- y축 범위 : 최소7, 최대10"
   ]
  },
  {
   "cell_type": "code",
   "execution_count": 27,
   "id": "d61f5cfd",
   "metadata": {},
   "outputs": [
    {
     "data": {
      "text/plain": [
       "(7.0, 10.0)"
      ]
     },
     "execution_count": 27,
     "metadata": {},
     "output_type": "execute_result"
    },
    {
     "data": {
      "image/png": "[encoded data removed]",
      "text/plain": [
       "<Figure size 432x288 with 1 Axes>"
      ]
     },
     "metadata": {
      "needs_background": "light"
     },
     "output_type": "display_data"
    }
   ],
   "source": [
    "plt.plot(df_group.index, df_group['평점'], marker = 'o')\n",
    "plt.xticks([2005,2010,2015,2020])\n",
    "plt.ylim(7,10)"
   ]
  },
  {
   "cell_type": "markdown",
   "id": "e891c1fd",
   "metadata": {},
   "source": [
    "# 5) 평점 9점 이상인 영화의 비율을 확인할 수 있는 원그래프를 제시된 세부사항 적용하여 그리시오\n",
    "- label : 9점이상 / 9점미만\n",
    "- 퍼센트 : 소수점 첫째자리까지 표시\n",
    "- 범례 : 그래프 우측에 표시"
   ]
  },
  {
   "cell_type": "code",
   "execution_count": 31,
   "id": "bc138b50",
   "metadata": {},
   "outputs": [
    {
     "data": {
      "text/plain": [
       "5"
      ]
     },
     "execution_count": 31,
     "metadata": {},
     "output_type": "execute_result"
    }
   ],
   "source": [
    "filt = df['평점'] >= 9.0\n",
    "df[filt]\n",
    "len(df[~filt])"
   ]
  },
  {
   "cell_type": "code",
   "execution_count": 36,
   "id": "23a8043a",
   "metadata": {},
   "outputs": [
    {
     "data": {
      "image/png": "[encoded data removed]",
      "text/plain": [
       "<Figure size 432x288 with 1 Axes>"
      ]
     },
     "metadata": {},
     "output_type": "display_data"
    }
   ],
   "source": [
    "values = [len(df[filt]), len(df[~filt])]\n",
    "values\n",
    "labels = ['9점이상', '9점미만']\n",
    "\n",
    "plt.pie(values, labels=labels, autopct = '%.1f%%')\n",
    "plt.legend(loc = (1,0.3))\n",
    "plt.show()"
   ]
  },
  {
   "cell_type": "code",
   "execution_count": null,
   "id": "3c244d8a",
   "metadata": {},
   "outputs": [],
   "source": []
  }
 ],
 "metadata": {
  "kernelspec": {
   "display_name": "Python 3 (ipykernel)",
   "language": "python",
   "name": "python3"
  },
  "language_info": {
   "codemirror_mode": {
    "name": "ipython",
    "version": 3
   },
   "file_extension": ".py",
   "mimetype": "text/x-python",
   "name": "python",
   "nbconvert_exporter": "python",
   "pygments_lexer": "ipython3",
   "version": "3.9.12"
  }
 },
 "nbformat": 4,
 "nbformat_minor": 5
}
