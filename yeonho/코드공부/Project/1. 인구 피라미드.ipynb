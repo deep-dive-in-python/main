{
 "cells": [
  {
   "cell_type": "markdown",
   "id": "7ff3f091",
   "metadata": {},
   "source": [
    "# 1. 인구 피라미드"
   ]
  },
  {
   "cell_type": "markdown",
   "id": "0a51281b",
   "metadata": {},
   "source": [
    "# 남자 데이터 정의"
   ]
  },
  {
   "cell_type": "code",
   "execution_count": 1,
   "id": "b670f6f1",
   "metadata": {},
   "outputs": [
    {
     "name": "stderr",
     "output_type": "stream",
     "text": [
      "C:\\Users\\sarah\\anaconda3\\lib\\site-packages\\openpyxl\\styles\\stylesheet.py:226: UserWarning: Workbook contains no default style, apply openpyxl's default\n",
      "  warn(\"Workbook contains no default style, apply openpyxl's default\")\n"
     ]
    },
    {
     "data": {
      "text/html": [
       "<div>\n",
       "<style scoped>\n",
       "    .dataframe tbody tr th:only-of-type {\n",
       "        vertical-align: middle;\n",
       "    }\n",
       "\n",
       "    .dataframe tbody tr th {\n",
       "        vertical-align: top;\n",
       "    }\n",
       "\n",
       "    .dataframe thead th {\n",
       "        text-align: right;\n",
       "    }\n",
       "</style>\n",
       "<table border=\"1\" class=\"dataframe\">\n",
       "  <thead>\n",
       "    <tr style=\"text-align: right;\">\n",
       "      <th></th>\n",
       "      <th>0~4세</th>\n",
       "      <th>5~9세</th>\n",
       "      <th>10~14세</th>\n",
       "      <th>15~19세</th>\n",
       "      <th>20~24세</th>\n",
       "      <th>25~29세</th>\n",
       "      <th>30~34세</th>\n",
       "      <th>35~39세</th>\n",
       "      <th>40~44세</th>\n",
       "      <th>45~49세</th>\n",
       "      <th>...</th>\n",
       "      <th>55~59세</th>\n",
       "      <th>60~64세</th>\n",
       "      <th>65~69세</th>\n",
       "      <th>70~74세</th>\n",
       "      <th>75~79세</th>\n",
       "      <th>80~84세</th>\n",
       "      <th>85~89세</th>\n",
       "      <th>90~94세</th>\n",
       "      <th>95~99세</th>\n",
       "      <th>100세 이상</th>\n",
       "    </tr>\n",
       "    <tr>\n",
       "      <th>행정기관</th>\n",
       "      <th></th>\n",
       "      <th></th>\n",
       "      <th></th>\n",
       "      <th></th>\n",
       "      <th></th>\n",
       "      <th></th>\n",
       "      <th></th>\n",
       "      <th></th>\n",
       "      <th></th>\n",
       "      <th></th>\n",
       "      <th></th>\n",
       "      <th></th>\n",
       "      <th></th>\n",
       "      <th></th>\n",
       "      <th></th>\n",
       "      <th></th>\n",
       "      <th></th>\n",
       "      <th></th>\n",
       "      <th></th>\n",
       "      <th></th>\n",
       "      <th></th>\n",
       "    </tr>\n",
       "  </thead>\n",
       "  <tbody>\n",
       "    <tr>\n",
       "      <th>전국</th>\n",
       "      <td>1,195,951</td>\n",
       "      <td>1,233,465</td>\n",
       "      <td>1,663,534</td>\n",
       "      <td>1,890,498</td>\n",
       "      <td>1,667,705</td>\n",
       "      <td>1,844,651</td>\n",
       "      <td>2,048,038</td>\n",
       "      <td>2,178,901</td>\n",
       "      <td>2,335,456</td>\n",
       "      <td>2,165,327</td>\n",
       "      <td>...</td>\n",
       "      <td>1,556,649</td>\n",
       "      <td>1,129,517</td>\n",
       "      <td>883,074</td>\n",
       "      <td>701,439</td>\n",
       "      <td>419,877</td>\n",
       "      <td>186,554</td>\n",
       "      <td>75,904</td>\n",
       "      <td>22,020</td>\n",
       "      <td>4,651</td>\n",
       "      <td>2,607</td>\n",
       "    </tr>\n",
       "    <tr>\n",
       "      <th>서울특별시</th>\n",
       "      <td>217,685</td>\n",
       "      <td>215,881</td>\n",
       "      <td>290,064</td>\n",
       "      <td>349,753</td>\n",
       "      <td>335,868</td>\n",
       "      <td>435,347</td>\n",
       "      <td>474,347</td>\n",
       "      <td>461,401</td>\n",
       "      <td>459,759</td>\n",
       "      <td>413,538</td>\n",
       "      <td>...</td>\n",
       "      <td>326,028</td>\n",
       "      <td>241,501</td>\n",
       "      <td>190,131</td>\n",
       "      <td>134,312</td>\n",
       "      <td>70,398</td>\n",
       "      <td>30,893</td>\n",
       "      <td>13,028</td>\n",
       "      <td>4,530</td>\n",
       "      <td>1,163</td>\n",
       "      <td>884</td>\n",
       "    </tr>\n",
       "    <tr>\n",
       "      <th>부산광역시</th>\n",
       "      <td>67,247</td>\n",
       "      <td>70,521</td>\n",
       "      <td>103,201</td>\n",
       "      <td>130,774</td>\n",
       "      <td>122,276</td>\n",
       "      <td>130,924</td>\n",
       "      <td>137,943</td>\n",
       "      <td>136,378</td>\n",
       "      <td>148,501</td>\n",
       "      <td>146,523</td>\n",
       "      <td>...</td>\n",
       "      <td>134,265</td>\n",
       "      <td>99,030</td>\n",
       "      <td>73,472</td>\n",
       "      <td>53,357</td>\n",
       "      <td>28,437</td>\n",
       "      <td>11,595</td>\n",
       "      <td>4,193</td>\n",
       "      <td>1,083</td>\n",
       "      <td>253</td>\n",
       "      <td>223</td>\n",
       "    </tr>\n",
       "  </tbody>\n",
       "</table>\n",
       "<p>3 rows × 21 columns</p>\n",
       "</div>"
      ],
      "text/plain": [
       "              0~4세       5~9세     10~14세     15~19세     20~24세     25~29세  \\\n",
       "행정기관                                                                        \n",
       "전국       1,195,951  1,233,465  1,663,534  1,890,498  1,667,705  1,844,651   \n",
       "서울특별시      217,685    215,881    290,064    349,753    335,868    435,347   \n",
       "부산광역시       67,247     70,521    103,201    130,774    122,276    130,924   \n",
       "\n",
       "            30~34세     35~39세     40~44세     45~49세  ...     55~59세  \\\n",
       "행정기관                                                 ...              \n",
       "전국       2,048,038  2,178,901  2,335,456  2,165,327  ...  1,556,649   \n",
       "서울특별시      474,347    461,401    459,759    413,538  ...    326,028   \n",
       "부산광역시      137,943    136,378    148,501    146,523  ...    134,265   \n",
       "\n",
       "            60~64세   65~69세   70~74세   75~79세   80~84세  85~89세  90~94세 95~99세  \\\n",
       "행정기관                                                                            \n",
       "전국       1,129,517  883,074  701,439  419,877  186,554  75,904  22,020  4,651   \n",
       "서울특별시      241,501  190,131  134,312   70,398   30,893  13,028   4,530  1,163   \n",
       "부산광역시       99,030   73,472   53,357   28,437   11,595   4,193   1,083    253   \n",
       "\n",
       "        100세 이상  \n",
       "행정기관             \n",
       "전국        2,607  \n",
       "서울특별시       884  \n",
       "부산광역시       223  \n",
       "\n",
       "[3 rows x 21 columns]"
      ]
     },
     "execution_count": 1,
     "metadata": {},
     "output_type": "execute_result"
    }
   ],
   "source": [
    "import pandas as pd\n",
    "df_m = pd.read_excel('C:/Users/sarah/Desktop/py4e/PythonDataWorkspace/프로젝트/201108_201108_연령별인구현황_월간.xlsx',\n",
    "                     skiprows = 3, index_col = '행정기관',usecols = 'B, E:Y')\n",
    "#skiprows=3 : 첫 3개 row 공백은 쓸필요 없기 때문에 무시\n",
    "#index_col='행정기관' : index column을 지정\n",
    "#usecols = 'B, E:Y' : B열과 E~Y까지의 필요한 columns만 사용\n",
    "df_m.head(3)"
   ]
  },
  {
   "cell_type": "code",
   "execution_count": 2,
   "id": "fd7f6a35",
   "metadata": {},
   "outputs": [
    {
     "data": {
      "text/plain": [
       "0~4세       1,195,951\n",
       "5~9세       1,233,465\n",
       "10~14세     1,663,534\n",
       "15~19세     1,890,498\n",
       "20~24세     1,667,705\n",
       "25~29세     1,844,651\n",
       "30~34세     2,048,038\n",
       "35~39세     2,178,901\n",
       "40~44세     2,335,456\n",
       "45~49세     2,165,327\n",
       "50~54세     2,169,808\n",
       "55~59세     1,556,649\n",
       "60~64세     1,129,517\n",
       "65~69세       883,074\n",
       "70~74세       701,439\n",
       "75~79세       419,877\n",
       "80~84세       186,554\n",
       "85~89세        75,904\n",
       "90~94세        22,020\n",
       "95~99세         4,651\n",
       "100세 이상        2,607\n",
       "Name: 전국  , dtype: object"
      ]
     },
     "execution_count": 2,
     "metadata": {},
     "output_type": "execute_result"
    }
   ],
   "source": [
    "df_m.iloc[0]"
   ]
  },
  {
   "cell_type": "code",
   "execution_count": 5,
   "id": "7fc8004a",
   "metadata": {},
   "outputs": [],
   "source": [
    "#df_m.iloc[0] = df_m.iloc[0].str.replace(',', '').astype(int) #1,195,951 -> 1195951 (정수형)으로 바꿔준다"
   ]
  },
  {
   "cell_type": "code",
   "execution_count": 6,
   "id": "cfe216b0",
   "metadata": {},
   "outputs": [
    {
     "data": {
      "text/plain": [
       "0~4세       1195951\n",
       "5~9세       1233465\n",
       "10~14세     1663534\n",
       "15~19세     1890498\n",
       "20~24세     1667705\n",
       "25~29세     1844651\n",
       "30~34세     2048038\n",
       "35~39세     2178901\n",
       "40~44세     2335456\n",
       "45~49세     2165327\n",
       "50~54세     2169808\n",
       "55~59세     1556649\n",
       "60~64세     1129517\n",
       "65~69세      883074\n",
       "70~74세      701439\n",
       "75~79세      419877\n",
       "80~84세      186554\n",
       "85~89세       75904\n",
       "90~94세       22020\n",
       "95~99세        4651\n",
       "100세 이상       2607\n",
       "Name: 전국  , dtype: object"
      ]
     },
     "execution_count": 6,
     "metadata": {},
     "output_type": "execute_result"
    }
   ],
   "source": [
    "df_m.iloc[0]"
   ]
  },
  {
   "cell_type": "code",
   "execution_count": null,
   "id": "b497345c",
   "metadata": {},
   "outputs": [],
   "source": []
  },
  {
   "cell_type": "code",
   "execution_count": null,
   "id": "04afc106",
   "metadata": {},
   "outputs": [],
   "source": []
  },
  {
   "cell_type": "code",
   "execution_count": null,
   "id": "161e1bf6",
   "metadata": {},
   "outputs": [],
   "source": []
  },
  {
   "cell_type": "code",
   "execution_count": null,
   "id": "4e42b959",
   "metadata": {},
   "outputs": [],
   "source": []
  }
 ],
 "metadata": {
  "kernelspec": {
   "display_name": "Python 3 (ipykernel)",
   "language": "python",
   "name": "python3"
  },
  "language_info": {
   "codemirror_mode": {
    "name": "ipython",
    "version": 3
   },
   "file_extension": ".py",
   "mimetype": "text/x-python",
   "name": "python",
   "nbconvert_exporter": "python",
   "pygments_lexer": "ipython3",
   "version": "3.9.12"
  }
 },
 "nbformat": 4,
 "nbformat_minor": 5
}
