{
 "cells": [
  {
   "cell_type": "markdown",
   "id": "6625900e",
   "metadata": {},
   "source": [
    "## 1. 데이터생성"
   ]
  },
  {
   "cell_type": "code",
   "execution_count": 2,
   "id": "4ddc8aaa",
   "metadata": {},
   "outputs": [],
   "source": [
    "from sklearn.datasets import make_blobs\n",
    "X,y = make_blobs(n_samples=100, n_features=2, centers=5, random_state=10)"
   ]
  },
  {
   "cell_type": "markdown",
   "id": "99f9cccf",
   "metadata": {},
   "source": [
    "- make_blobs 이용해 랜덤으로 데이터 생성\n",
    "- n_sample=100은 전체 데이터 개수, n_features = 2는 feature 개수, centers=5는 중심개수(그룹개수), random_state=10은 랜덤 시드값 의미"
   ]
  },
  {
   "cell_type": "code",
   "execution_count": 3,
   "id": "cf3856f6",
   "metadata": {},
   "outputs": [
    {
     "name": "stdout",
     "output_type": "stream",
     "text": [
      "(100, 2)\n",
      "(100,)\n"
     ]
    }
   ],
   "source": [
    "print(X.shape) # X : 피처데이터의 차원은 2차원, 데이터 100개가 생성\n",
    "print(y.shape) # y : 타깃데이터의 차원은 1차원, 데이터 100개가 생성"
   ]
  },
  {
   "cell_type": "markdown",
   "id": "c9352329",
   "metadata": {},
   "source": [
    "## 2.데이터 차원확인"
   ]
  },
  {
   "cell_type": "markdown",
   "id": "f2cac092",
   "metadata": {},
   "source": [
    "## 3. 라벨링되지 않은 데이터 플롯"
   ]
  },
  {
   "cell_type": "code",
   "execution_count": 5,
   "id": "a257af01",
   "metadata": {},
   "outputs": [
    {
     "data": {
      "image/png": "[encoded data removed]",
      "text/plain": [
       "<Figure size 432x288 with 1 Axes>"
      ]
     },
     "metadata": {
      "needs_background": "light"
     },
     "output_type": "display_data"
    }
   ],
   "source": [
    "import matplotlib.pyplot as plt\n",
    "plt.scatter(X[:,0], X[:,1], c='gray', edgecolor='black', marker='o')\n",
    "plt.show()"
   ]
  },
  {
   "cell_type": "markdown",
   "id": "9844aaed",
   "metadata": {},
   "source": [
    "- 5개의 클러스터(그룹)으로 분리되어 있다고 생각하고, k=5라고 설정"
   ]
  },
  {
   "cell_type": "markdown",
   "id": "74b096d9",
   "metadata": {},
   "source": [
    "## 4. k-평균 클러스터링"
   ]
  },
  {
   "cell_type": "code",
   "execution_count": 15,
   "id": "380a53a0",
   "metadata": {},
   "outputs": [
    {
     "name": "stdout",
     "output_type": "stream",
     "text": [
      "[2 4 3 1 0 2 2 3 0 2 3 2 0 1 0 2 4 1 0 2 2 1 4 3 2 2 1 0 3 4 1 1 0 1 2 0 3\n",
      " 1 3 4 1 1 1 0 3 3 2 0 4 0 4 0 2 3 0 0 1 4 1 3 0 4 4 1 2 4 0 4 0 3 3 2 4 0\n",
      " 1 1 3 4 2 2 0 0 4 1 4 3 1 3 1 3 4 3 2 4 4 4 3 2 2 3]\n"
     ]
    }
   ],
   "source": [
    "from sklearn.cluster import KMeans\n",
    "kmc = KMeans(n_clusters=5, init='random', max_iter=100, random_state=0)\n",
    "kmc.fit(X)\n",
    "label_kmc = kmc.labels_\n",
    "\n",
    "print(label_kmc)"
   ]
  },
  {
   "cell_type": "markdown",
   "id": "8d131d36",
   "metadata": {},
   "source": [
    "- kmeans함수이용 , n_clusters=5는 집단의 수(k값), init 옵션은 첫번째 평균값 어떻게 정할지에 대한 방법, max_iter=100은 알고리즘 최대 반복횟수, random_state는 랜덤 시드값\n",
    "- label_kmc는 모형을 어떻게 클러스터링 했는지 확인가능"
   ]
  },
  {
   "cell_type": "markdown",
   "id": "c06e24ee",
   "metadata": {},
   "source": [
    "## 5. 시각화를 위한 데이터프레임 생성"
   ]
  },
  {
   "cell_type": "code",
   "execution_count": 22,
   "id": "87a7e54d",
   "metadata": {},
   "outputs": [
    {
     "data": {
      "text/html": [
       "<div>\n",
       "<style scoped>\n",
       "    .dataframe tbody tr th:only-of-type {\n",
       "        vertical-align: middle;\n",
       "    }\n",
       "\n",
       "    .dataframe tbody tr th {\n",
       "        vertical-align: top;\n",
       "    }\n",
       "\n",
       "    .dataframe thead th {\n",
       "        text-align: right;\n",
       "    }\n",
       "</style>\n",
       "<table border=\"1\" class=\"dataframe\">\n",
       "  <thead>\n",
       "    <tr style=\"text-align: right;\">\n",
       "      <th></th>\n",
       "      <th>kmc_comp1</th>\n",
       "      <th>kmc_comp2</th>\n",
       "      <th>target</th>\n",
       "      <th>label_kmc</th>\n",
       "    </tr>\n",
       "  </thead>\n",
       "  <tbody>\n",
       "    <tr>\n",
       "      <th>0</th>\n",
       "      <td>-5.577854</td>\n",
       "      <td>5.872988</td>\n",
       "      <td>3</td>\n",
       "      <td>2</td>\n",
       "    </tr>\n",
       "    <tr>\n",
       "      <th>1</th>\n",
       "      <td>1.627832</td>\n",
       "      <td>4.178069</td>\n",
       "      <td>1</td>\n",
       "      <td>4</td>\n",
       "    </tr>\n",
       "    <tr>\n",
       "      <th>2</th>\n",
       "      <td>-6.950884</td>\n",
       "      <td>-9.024594</td>\n",
       "      <td>4</td>\n",
       "      <td>3</td>\n",
       "    </tr>\n",
       "    <tr>\n",
       "      <th>3</th>\n",
       "      <td>-0.952769</td>\n",
       "      <td>-5.034316</td>\n",
       "      <td>2</td>\n",
       "      <td>1</td>\n",
       "    </tr>\n",
       "    <tr>\n",
       "      <th>4</th>\n",
       "      <td>6.550104</td>\n",
       "      <td>-7.912339</td>\n",
       "      <td>0</td>\n",
       "      <td>0</td>\n",
       "    </tr>\n",
       "    <tr>\n",
       "      <th>...</th>\n",
       "      <td>...</td>\n",
       "      <td>...</td>\n",
       "      <td>...</td>\n",
       "      <td>...</td>\n",
       "    </tr>\n",
       "    <tr>\n",
       "      <th>95</th>\n",
       "      <td>3.719148</td>\n",
       "      <td>3.557522</td>\n",
       "      <td>1</td>\n",
       "      <td>4</td>\n",
       "    </tr>\n",
       "    <tr>\n",
       "      <th>96</th>\n",
       "      <td>-7.697481</td>\n",
       "      <td>-8.356274</td>\n",
       "      <td>4</td>\n",
       "      <td>3</td>\n",
       "    </tr>\n",
       "    <tr>\n",
       "      <th>97</th>\n",
       "      <td>-6.745814</td>\n",
       "      <td>5.757279</td>\n",
       "      <td>3</td>\n",
       "      <td>2</td>\n",
       "    </tr>\n",
       "    <tr>\n",
       "      <th>98</th>\n",
       "      <td>-5.096242</td>\n",
       "      <td>2.231017</td>\n",
       "      <td>3</td>\n",
       "      <td>2</td>\n",
       "    </tr>\n",
       "    <tr>\n",
       "      <th>99</th>\n",
       "      <td>-6.484646</td>\n",
       "      <td>-7.030460</td>\n",
       "      <td>4</td>\n",
       "      <td>3</td>\n",
       "    </tr>\n",
       "  </tbody>\n",
       "</table>\n",
       "<p>100 rows × 4 columns</p>\n",
       "</div>"
      ],
      "text/plain": [
       "    kmc_comp1  kmc_comp2  target  label_kmc\n",
       "0   -5.577854   5.872988       3          2\n",
       "1    1.627832   4.178069       1          4\n",
       "2   -6.950884  -9.024594       4          3\n",
       "3   -0.952769  -5.034316       2          1\n",
       "4    6.550104  -7.912339       0          0\n",
       "..        ...        ...     ...        ...\n",
       "95   3.719148   3.557522       1          4\n",
       "96  -7.697481  -8.356274       4          3\n",
       "97  -6.745814   5.757279       3          2\n",
       "98  -5.096242   2.231017       3          2\n",
       "99  -6.484646  -7.030460       4          3\n",
       "\n",
       "[100 rows x 4 columns]"
      ]
     },
     "execution_count": 22,
     "metadata": {},
     "output_type": "execute_result"
    }
   ],
   "source": [
    "import pandas as pd\n",
    "kmc_columns = ['kmc_comp1','kmc_comp2']\n",
    "X_kmc_df = pd.DataFrame(X, columns=kmc_columns)\n",
    "X_kmc_df['target'] = y\n",
    "X_kmc_df['label_kmc'] = label_kmc\n",
    "X_kmc_df.head(100)"
   ]
  },
  {
   "cell_type": "code",
   "execution_count": 19,
   "id": "55fbc69b",
   "metadata": {},
   "outputs": [
    {
     "name": "stdout",
     "output_type": "stream",
     "text": [
      "{0, 1, 2, 3, 4}\n",
      "{0, 1, 2, 3, 4}\n"
     ]
    }
   ],
   "source": [
    "print(set(X_kmc_df['target']))\n",
    "print(set(X_kmc_df['label_kmc']))"
   ]
  },
  {
   "cell_type": "markdown",
   "id": "c0fe7f79",
   "metadata": {},
   "source": [
    "타깃데이터와 군집이름이 0,1,2,3,4로 5개로 구분됨을 확인(target = 0,1,2,3,4)"
   ]
  },
  {
   "cell_type": "markdown",
   "id": "ac173295",
   "metadata": {},
   "source": [
    "## 6. k-평균 클러스터링을 이용한 데이터 플롯"
   ]
  },
  {
   "cell_type": "code",
   "execution_count": 20,
   "id": "5789091d",
   "metadata": {},
   "outputs": [
    {
     "data": {
      "image/png": "[encoded data removed]",
      "text/plain": [
       "<Figure size 432x288 with 1 Axes>"
      ]
     },
     "metadata": {
      "needs_background": "light"
     },
     "output_type": "display_data"
    }
   ],
   "source": [
    "df = X_kmc_df\n",
    "markers = ['o', 'x', '^', 's', '*'] #marker의 종류 표현\n",
    "\n",
    "for i, mark in enumerate(markers) :\n",
    "    df_i = df[df['label_kmc']==i]\n",
    "    target_i = i\n",
    "    X1 = df_i['kmc_comp1']\n",
    "    X2 = df_i['kmc_comp2']\n",
    "    plt.scatter(X1,X2, marker=mark, label=target_i)\n",
    "\n",
    "plt.xlabel('kmc_component1')\n",
    "plt.ylabel('kmc_component2')\n",
    "plt.legend()\n",
    "plt.show()"
   ]
  },
  {
   "cell_type": "markdown",
   "id": "cc5ac048",
   "metadata": {},
   "source": [
    "## 7. 모형평가"
   ]
  },
  {
   "cell_type": "code",
   "execution_count": 25,
   "id": "9e7e8c74",
   "metadata": {},
   "outputs": [
    {
     "name": "stdout",
     "output_type": "stream",
     "text": [
      "0.7598181300128782\n"
     ]
    }
   ],
   "source": [
    "from sklearn.metrics import silhouette_score\n",
    "sil_score = silhouette_score(X, label_kmc)\n",
    "print(sil_score)"
   ]
  },
  {
   "attachments": {},
   "cell_type": "markdown",
   "id": "5bc92286",
   "metadata": {},
   "source": [
    "- 실루엣 스코어 함수 : 0.76 (k-평균 클러스터링을 통해 만들어진 모형 평가)\n",
    "- 실루엣 계수(-1<x<1) : 1로 가까워 질수록 근처의 군집과 더 멀리 떨어져 있다는 것이고, 0에 가까울 수록 근처의 군집과 가까워 진다는 것이다.\n",
    "- 효율적으로 잘 분리 됐다는 것은 다른 군집과의 거리는 떨어져 있고 동일 군집끼리의 데이터는 서로 가깝게 잘 뭉쳐 있다는 의미이다."
   ]
  }
 ],
 "metadata": {
  "kernelspec": {
   "display_name": "Python 3 (ipykernel)",
   "language": "python",
   "name": "python3"
  },
  "language_info": {
   "codemirror_mode": {
    "name": "ipython",
    "version": 3
   },
   "file_extension": ".py",
   "mimetype": "text/x-python",
   "name": "python",
   "nbconvert_exporter": "python",
   "pygments_lexer": "ipython3",
   "version": "3.9.12"
  }
 },
 "nbformat": 4,
 "nbformat_minor": 5
}
