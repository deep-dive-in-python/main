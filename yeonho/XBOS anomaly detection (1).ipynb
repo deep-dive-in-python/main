{
 "cells": [
  {
   "attachments": {
    "image.png": {
     "image/png": "[encoded data removed]"
    }
   },
   "cell_type": "markdown",
   "id": "66f66fff",
   "metadata": {},
   "source": [
    "### XBOS Anomaly Detection by Yeonho\n",
    "\n",
    "Cross interaction based outlier score (XBOS) is a cluster-based algorithm for unsupervised anomaly detection. It uses k-means clustering for the first stage, and then calculate cross interaction between clusters as the second stage. Because of this second stage, A small cluster near another large cluster is treated as if that is a middle cluster, so that the data points belong to the cluster is scored 'not so anomalous' as a result.\n",
    "\n",
    "XBOS assumes independence of the features as same as HBOS. XBOS shows very good performance on Kaggle credit card dataset compared to Isolation Forest and HBOS.\n",
    "\n",
    "![image.png](attachment:image.png)\n",
    "\n",
    "#### XBOS is a really simple algorithm and implemented in just 55 lines of Python code."
   ]
  },
  {
   "cell_type": "code",
   "execution_count": 2,
   "id": "e7fdaddc",
   "metadata": {},
   "outputs": [],
   "source": [
    "from sklearn.cluster import KMeans\n",
    "import numpy as np\n",
    "import pandas as pd\n",
    "from pandas import DataFrame\n",
    "from math import pow\n",
    "import math"
   ]
  },
  {
   "cell_type": "code",
   "execution_count": 5,
   "id": "6d35b4fa",
   "metadata": {},
   "outputs": [
    {
     "name": "stdout",
     "output_type": "stream",
     "text": [
      "   ID        V1        V2        V3        V4        V5        V6        V7  \\\n",
      "0   3 -1.358354 -1.340163  1.773209  0.379780 -0.503198  1.800499  0.791461   \n",
      "1   4 -0.966272 -0.185226  1.792993 -0.863291 -0.010309  1.247203  0.237609   \n",
      "\n",
      "         V8        V9  ...       V21       V22       V23       V24       V25  \\\n",
      "0  0.247676 -1.514654  ...  0.247998  0.771679  0.909412 -0.689281 -0.327642   \n",
      "1  0.377436 -1.387024  ... -0.108300  0.005274 -0.190321 -1.175575  0.647376   \n",
      "\n",
      "        V26       V27       V28       V29       V30  \n",
      "0 -0.139097 -0.055353 -0.059752  4.983721 -0.994972  \n",
      "1 -0.221929  0.062723  0.061458  1.418291 -0.994972  \n",
      "\n",
      "[2 rows x 31 columns]\n"
     ]
    }
   ],
   "source": [
    "train_data = pd.read_csv('C:/Users/sarah/Desktop/github/open/train.csv')\n",
    "print(train_data.head(2))"
   ]
  },
  {
   "cell_type": "code",
   "execution_count": 11,
   "id": "1bdf7582",
   "metadata": {},
   "outputs": [],
   "source": [
    "##구현(Implement)\n",
    "\n",
    "class XBOS:\n",
    "    \n",
    "    def __init__(self,n_clusters=15,effectiveness=500,max_iter=2):\n",
    "        self.n_clusters=n_clusters\n",
    "        self.effectiveness=effectiveness\n",
    "        self.max_iter=max_iter\n",
    "        self.kmeans = {}\n",
    "        self.cluster_score = {}\n",
    "        \n",
    "    def fit(self, data):\n",
    "        length = len(data)\n",
    "        for column in data.columns:\n",
    "            kmeans = KMeans(n_clusters=self.n_clusters,max_iter=self.max_iter)\n",
    "            self.kmeans[column]=kmeans\n",
    "            kmeans.fit(data[column].values.reshape(-1,1))\n",
    "            assign = DataFrame(kmeans.predict(data[column].values.reshape(-1,1)),columns=['cluster'])\n",
    "            cluster_score=assign.groupby('cluster').apply(len).apply(lambda x:x/length)\n",
    "            ratio=cluster_score.copy()\n",
    "        \n",
    "            sorted_centers = sorted(kmeans.cluster_centers_)\n",
    "            max_distance = ( sorted_centers[-1] - sorted_centers[0] )[ 0 ]\n",
    "        \n",
    "            for i in range(self.n_clusters):\n",
    "                for k in range(self.n_clusters):\n",
    "                    if i != k:\n",
    "                        dist = abs(kmeans.cluster_centers_[i] - kmeans.cluster_centers_[k])/max_distance\n",
    "                        effect = ratio[k]*(1/pow(self.effectiveness,dist))\n",
    "                        cluster_score[i] = cluster_score[i]+effect\n",
    "                        \n",
    "            self.cluster_score[column] = cluster_score\n",
    "                    \n",
    "    def predict(self, data):\n",
    "        length = len(data)\n",
    "        score_array = np.zeros(length)\n",
    "        for column in data.columns:\n",
    "            kmeans = self.kmeans[column]\n",
    "            cluster_score = self.cluster_score[column]\n",
    "            \n",
    "            assign = kmeans.predict(data[column].values.reshape(-1,1))\n",
    "            #print(assign)\n",
    "            \n",
    "            for i in range(length):\n",
    "                score_array[i] = score_array[i] + math.log10(cluster_score[assign[i]])\n",
    "            \n",
    "        return score_array\n",
    "    \n",
    "    def fit_predict(self,data):\n",
    "        self.fit(data)\n",
    "        return self.predict(data)"
   ]
  },
  {
   "cell_type": "code",
   "execution_count": 8,
   "id": "8f8fe4f1",
   "metadata": {},
   "outputs": [
    {
     "name": "stdout",
     "output_type": "stream",
     "text": [
      "         V1        V2        V3        V4        V5        V6        V7  \\\n",
      "0 -1.358354 -1.340163  1.773209  0.379780 -0.503198  1.800499  0.791461   \n",
      "1 -0.966272 -0.185226  1.792993 -0.863291 -0.010309  1.247203  0.237609   \n",
      "\n",
      "         V8        V9       V10  ...       V21       V22       V23       V24  \\\n",
      "0  0.247676 -1.514654  0.207643  ...  0.247998  0.771679  0.909412 -0.689281   \n",
      "1  0.377436 -1.387024 -0.054952  ... -0.108300  0.005274 -0.190321 -1.175575   \n",
      "\n",
      "        V25       V26       V27       V28       V29       V30  \n",
      "0 -0.327642 -0.139097 -0.055353 -0.059752  4.983721 -0.994972  \n",
      "1  0.647376 -0.221929  0.062723  0.061458  1.418291 -0.994972  \n",
      "\n",
      "[2 rows x 30 columns]\n",
      "         V1        V2        V3        V4        V5        V6        V7  \\\n",
      "0 -0.338262  1.119593  1.044367 -0.222187  0.499361 -0.246761  0.651583   \n",
      "1  0.962496  0.328461 -0.171479  2.109204  1.129566  1.696038  0.107712   \n",
      "\n",
      "         V8        V9       V10  ...       V22       V23       V24       V25  \\\n",
      "0  0.069539 -0.736727 -0.366846  ... -0.633753 -0.120794 -0.385050 -0.069733   \n",
      "1  0.521502 -1.191311  0.724396  ...  0.402492 -0.048508 -1.371866  0.390814   \n",
      "\n",
      "        V26       V27       V28       V29       V30  Class  \n",
      "0  0.094199  0.246219  0.083076 -0.255991 -0.994878      0  \n",
      "1  0.199964  0.016371 -0.014605  0.168937 -0.994784      0  \n",
      "\n",
      "[2 rows x 31 columns]\n"
     ]
    }
   ],
   "source": [
    "train_data = pd.read_csv('C:/Users/sarah/Desktop/github/open/train.csv')\n",
    "train_data = train_data.drop(columns=['ID'])\n",
    "valid_data = pd.read_csv('C:/Users/sarah/Desktop/github/open/val.csv')\n",
    "valid_data = valid_data.drop(columns=['ID'])\n",
    "\n",
    "print(train_data.head(2))\n",
    "print(valid_data.head(2))"
   ]
  },
  {
   "cell_type": "code",
   "execution_count": 12,
   "id": "f8d7c7fa",
   "metadata": {
    "scrolled": true
   },
   "outputs": [
    {
     "ename": "KeyError",
     "evalue": "'Class'",
     "output_type": "error",
     "traceback": [
      "\u001b[1;31m---------------------------------------------------------------------------\u001b[0m",
      "\u001b[1;31mKeyError\u001b[0m                                  Traceback (most recent call last)",
      "Input \u001b[1;32mIn [12]\u001b[0m, in \u001b[0;36m<cell line: 6>\u001b[1;34m()\u001b[0m\n\u001b[0;32m      1\u001b[0m xbos \u001b[38;5;241m=\u001b[39m XBOS(n_clusters\u001b[38;5;241m=\u001b[39m\u001b[38;5;241m15\u001b[39m,max_iter\u001b[38;5;241m=\u001b[39m\u001b[38;5;241m1\u001b[39m)\n\u001b[0;32m      2\u001b[0m xbos\u001b[38;5;241m.\u001b[39mfit(train_data)\n\u001b[1;32m----> 6\u001b[0m xbos_result_val \u001b[38;5;241m=\u001b[39m \u001b[43mxbos\u001b[49m\u001b[38;5;241;43m.\u001b[39;49m\u001b[43mpredict\u001b[49m\u001b[43m(\u001b[49m\u001b[43mvalid_data\u001b[49m\u001b[43m)\u001b[49m\n\u001b[0;32m      8\u001b[0m valid_data_copy \u001b[38;5;241m=\u001b[39m valid_data\u001b[38;5;241m.\u001b[39mcopy()\n\u001b[0;32m      9\u001b[0m valid_data_copy[\u001b[38;5;124m'\u001b[39m\u001b[38;5;124mxbos\u001b[39m\u001b[38;5;124m'\u001b[39m] \u001b[38;5;241m=\u001b[39m xbos_result_val\n",
      "Input \u001b[1;32mIn [11]\u001b[0m, in \u001b[0;36mXBOS.predict\u001b[1;34m(self, data)\u001b[0m\n\u001b[0;32m     36\u001b[0m score_array \u001b[38;5;241m=\u001b[39m np\u001b[38;5;241m.\u001b[39mzeros(length)\n\u001b[0;32m     37\u001b[0m \u001b[38;5;28;01mfor\u001b[39;00m column \u001b[38;5;129;01min\u001b[39;00m data\u001b[38;5;241m.\u001b[39mcolumns:\n\u001b[1;32m---> 38\u001b[0m     kmeans \u001b[38;5;241m=\u001b[39m \u001b[38;5;28;43mself\u001b[39;49m\u001b[38;5;241;43m.\u001b[39;49m\u001b[43mkmeans\u001b[49m\u001b[43m[\u001b[49m\u001b[43mcolumn\u001b[49m\u001b[43m]\u001b[49m\n\u001b[0;32m     39\u001b[0m     cluster_score \u001b[38;5;241m=\u001b[39m \u001b[38;5;28mself\u001b[39m\u001b[38;5;241m.\u001b[39mcluster_score[column]\n\u001b[0;32m     41\u001b[0m     assign \u001b[38;5;241m=\u001b[39m kmeans\u001b[38;5;241m.\u001b[39mpredict(data[column]\u001b[38;5;241m.\u001b[39mvalues\u001b[38;5;241m.\u001b[39mreshape(\u001b[38;5;241m-\u001b[39m\u001b[38;5;241m1\u001b[39m,\u001b[38;5;241m1\u001b[39m))\n",
      "\u001b[1;31mKeyError\u001b[0m: 'Class'"
     ]
    }
   ],
   "source": [
    "xbos = XBOS(n_clusters=15,max_iter=1)\n",
    "xbos.fit(train_data)\n",
    "\n",
    "\n",
    "\n",
    "xbos_result_val = xbos.predict(valid_data)\n",
    "\n",
    "valid_data_copy = valid_data.copy()\n",
    "valid_data_copy['xbos'] = xbos_result_val\n",
    "valid_data_copy = valid_data_copy.reset_index()\n",
    "valid_data_sort = valid_data_copy.sort_values(by = 'xbos', ascending = True)\n",
    "valid_data_sort['Class'] = 0\n",
    "valid_data_sort['Class'][:30] = 1\n",
    "valid_data_sort = valid_data_sort.sort_values(by = 'index', ascending = True)\n",
    "val_score = f1_score(valid_class, valid_data_sort['Class'], average='macro')\n",
    "val_score"
   ]
  },
  {
   "cell_type": "code",
   "execution_count": 14,
   "id": "d4ac9f5b",
   "metadata": {},
   "outputs": [
    {
     "ename": "NameError",
     "evalue": "name 'f1_score' is not defined",
     "output_type": "error",
     "traceback": [
      "\u001b[1;31m---------------------------------------------------------------------------\u001b[0m",
      "\u001b[1;31mNameError\u001b[0m                                 Traceback (most recent call last)",
      "Input \u001b[1;32mIn [14]\u001b[0m, in \u001b[0;36m<cell line: 1>\u001b[1;34m()\u001b[0m\n\u001b[1;32m----> 1\u001b[0m val_score \u001b[38;5;241m=\u001b[39m \u001b[43mf1_score\u001b[49m(valid_class, valid_data_sort[\u001b[38;5;124m'\u001b[39m\u001b[38;5;124mClass\u001b[39m\u001b[38;5;124m'\u001b[39m], average\u001b[38;5;241m=\u001b[39m\u001b[38;5;124m'\u001b[39m\u001b[38;5;124mmacro\u001b[39m\u001b[38;5;124m'\u001b[39m)\n\u001b[0;32m      2\u001b[0m \u001b[38;5;28mprint\u001b[39m(val_score)\n",
      "\u001b[1;31mNameError\u001b[0m: name 'f1_score' is not defined"
     ]
    }
   ],
   "source": [
    "val_score = f1_score(valid_class, valid_data_sort['Class'], average='macro')\n",
    "print(val_score)"
   ]
  },
  {
   "cell_type": "code",
   "execution_count": null,
   "id": "e3784221",
   "metadata": {},
   "outputs": [],
   "source": []
  },
  {
   "cell_type": "code",
   "execution_count": null,
   "id": "da707e1f",
   "metadata": {},
   "outputs": [],
   "source": []
  }
 ],
 "metadata": {
  "kernelspec": {
   "display_name": "Python 3 (ipykernel)",
   "language": "python",
   "name": "python3"
  },
  "language_info": {
   "codemirror_mode": {
    "name": "ipython",
    "version": 3
   },
   "file_extension": ".py",
   "mimetype": "text/x-python",
   "name": "python",
   "nbconvert_exporter": "python",
   "pygments_lexer": "ipython3",
   "version": "3.9.12"
  }
 },
 "nbformat": 4,
 "nbformat_minor": 5
}
