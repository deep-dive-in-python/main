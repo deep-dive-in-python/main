{
 "cells": [
  {
   "cell_type": "code",
   "execution_count": 1,
   "metadata": {
    "tags": []
   },
   "outputs": [],
   "source": [
    "from keras.layers import Input, Dense\n",
    "from keras.models import Model, Sequential\n",
    "from keras import regularizers\n",
    "from sklearn.model_selection import train_test_split \n",
    "from sklearn.linear_model import LogisticRegression\n",
    "from sklearn.metrics import classification_report, accuracy_score, f1_score\n",
    "from sklearn.manifold import TSNE\n",
    "from sklearn import preprocessing \n",
    "import matplotlib.pyplot as plt\n",
    "import pandas as pd \n",
    "import numpy as np\n",
    "import seaborn as sns\n",
    "\n",
    "import random\n",
    "import os\n",
    "import torch\n",
    "import torch.nn as nn\n",
    "import torch.optim as optim\n",
    "import torch.nn.functional as F\n",
    "from torch.utils.data import Dataset, DataLoader"
   ]
  },
  {
   "cell_type": "code",
   "execution_count": 2,
   "metadata": {},
   "outputs": [
    {
     "name": "stdout",
     "output_type": "stream",
     "text": [
      "cuda\n"
     ]
    }
   ],
   "source": [
    "#GPU 사용하기 위한 코드\n",
    "device = torch.device('cuda') if torch.cuda.is_available() else torch.device('cpu')\n",
    "print(device)"
   ]
  },
  {
   "cell_type": "code",
   "execution_count": 14,
   "metadata": {},
   "outputs": [],
   "source": [
    "torch.cuda.empty_cache()"
   ]
  },
  {
   "cell_type": "code",
   "execution_count": 3,
   "metadata": {},
   "outputs": [],
   "source": [
    "def seed_everything(seed):\n",
    "    random.seed(seed)\n",
    "    os.environ['PYTHONHASHSEED'] = str(seed)\n",
    "    np.random.seed(seed)\n",
    "    torch.manual_seed(seed)\n",
    "    torch.cuda.manual_seed(seed)\n",
    "    torch.backends.cudnn.deterministic = True\n",
    "    torch.backends.cudnn.benchmark = True\n",
    "\n",
    "seed_everything(200)"
   ]
  },
  {
   "cell_type": "code",
   "execution_count": 4,
   "metadata": {},
   "outputs": [],
   "source": [
    "train_df = pd.read_csv('./input/train.csv')\n",
    "train_df = train_df.drop(columns=['ID'])\n",
    "\n",
    "val_df = pd.read_csv('./input/val.csv')\n",
    "val_df = val_df.drop(columns=['ID'])\n",
    "\n",
    "#사기거래 데이터만 따로 뽑기.\n",
    "#이후 시각화에 쓰기 위함이다. \n",
    "val_fraud=val_df[val_df['Class']==1]\n",
    "\n",
    "#validation set에서 class 제거. \n",
    "#이 set으로 class를 예측한 후 원래 class와 비교하여 우리가 고른 방법의 f1 score를 확인할 수 있다. \n",
    "val_re=val_df.drop(columns=['Class'])"
   ]
  },
  {
   "cell_type": "code",
   "execution_count": 5,
   "metadata": {},
   "outputs": [],
   "source": [
    "v=val_re.shape[1]\n",
    "s=val_fraud.shape[0]"
   ]
  },
  {
   "cell_type": "code",
   "execution_count": 6,
   "metadata": {},
   "outputs": [],
   "source": [
    "#일단 각 column별 수치 normalization하기\n",
    "#apply로 인해 각 컬럼별로 시행\n",
    "def mean_norm(df_input):\n",
    "    return df_input.apply(lambda x: (x-x.mean())/ x.std(), axis=0)\n",
    "\n",
    "#각 column별로 normalization된 사기거래의 값을 히스토그램으로 나타내자.\n",
    "index=val_fraud.index.to_list()\n",
    "val_df_ss = mean_norm(val_df)\n",
    "val_df_ss_fraud=val_df_ss.loc[index]"
   ]
  },
  {
   "cell_type": "code",
   "execution_count": 7,
   "metadata": {
    "tags": []
   },
   "outputs": [],
   "source": [
    "class MyDataset(Dataset):\n",
    "    def __init__(self, df, eval_mode):\n",
    "        self.df = df\n",
    "        self.eval_mode = eval_mode\n",
    "        if self.eval_mode:\n",
    "            self.labels = self.df['Class'].values\n",
    "            self.df = self.df.drop(columns=['Class']).values\n",
    "        else:\n",
    "            self.df = self.df.values\n",
    "        \n",
    "    def __getitem__(self, index):\n",
    "        if self.eval_mode:\n",
    "            self.x = self.df[index]\n",
    "            self.y = self.labels[index]\n",
    "            return torch.Tensor(self.x), self.y\n",
    "        else:\n",
    "            self.x = self.df[index]\n",
    "            return torch.Tensor(self.x)\n",
    "        \n",
    "    def __len__(self):\n",
    "        return len(self.df)"
   ]
  },
  {
   "cell_type": "code",
   "execution_count": 8,
   "metadata": {},
   "outputs": [],
   "source": [
    "class AutoEncoder(nn.Module):\n",
    "    def __init__(self, dim):\n",
    "        super(AutoEncoder, self).__init__()\n",
    "        self.Encoder = nn.Sequential(\n",
    "            nn.Linear(dim,dim*4),\n",
    "            nn.BatchNorm1d(dim*4),\n",
    "            nn.LeakyReLU(),\n",
    "            nn.Linear(dim*4, dim*8),\n",
    "            nn.BatchNorm1d(dim*8),\n",
    "            nn.LeakyReLU(),\n",
    "        )\n",
    "        self.Decoder = nn.Sequential(\n",
    "            nn.Linear(dim*8,dim*4),\n",
    "            nn.BatchNorm1d(dim*4),\n",
    "            nn.LeakyReLU(),\n",
    "            nn.Linear(dim*4,dim),\n",
    "        )\n",
    "        \n",
    "    def forward(self, x):\n",
    "        x = self.Encoder(x)\n",
    "        x = self.Decoder(x)\n",
    "        return x\n"
   ]
  },
  {
   "cell_type": "code",
   "execution_count": 9,
   "metadata": {},
   "outputs": [],
   "source": [
    "class Trainer():\n",
    "    def __init__(self, model, optimizer, train_loader, val_loader, scheduler, device):\n",
    "        self.model = model\n",
    "        self.optimizer = optimizer\n",
    "        self.train_loader = train_loader\n",
    "        self.val_loader = val_loader\n",
    "        self.scheduler = scheduler\n",
    "        self.device = device\n",
    "        # Loss Function\n",
    "        self.criterion = nn.L1Loss().to(self.device)\n",
    "        \n",
    "    def fit(self, ):\n",
    "        self.model.to(self.device)\n",
    "        best_score = 0\n",
    "        for epoch in range(EPOCHS):\n",
    "            self.model.train()\n",
    "            train_loss = []\n",
    "            for x in iter(self.train_loader):\n",
    "                x = x.float().to(self.device)\n",
    "                self.optimizer.zero_grad()\n",
    "\n",
    "                _x = self.model(x)\n",
    "                loss = self.criterion(x, _x)\n",
    "\n",
    "                loss.backward()\n",
    "                self.optimizer.step()\n",
    "\n",
    "                train_loss.append(loss.item())\n",
    "\n",
    "            score = self.validation(self.model, 0.95)\n",
    "            if epoch%5==0: print(f'Epoch : [{epoch}] Train loss : [{np.mean(train_loss)}] Val Score : [{score}])') \n",
    "            \n",
    "\n",
    "            if self.scheduler is not None:\n",
    "                self.scheduler.step(score)\n",
    "\n",
    "            if best_score < score:\n",
    "                best_score = score\n",
    "                torch.save(model.module.state_dict(), './best_model.pth', _use_new_zipfile_serialization=False)\n",
    "    \n",
    "    def validation(self, eval_model, thr):\n",
    "        cos = nn.CosineSimilarity(dim=1, eps=1e-6)\n",
    "        eval_model.eval()\n",
    "        pred = []\n",
    "        true = []\n",
    "        with torch.no_grad():\n",
    "            for x, y in iter(self.val_loader):\n",
    "                x = x.float().to(self.device)\n",
    "\n",
    "                _x = self.model(x)\n",
    "                diff = cos(x, _x).cpu().tolist()\n",
    "                batch_pred = np.where(np.array(diff)<thr, 1,0).tolist()\n",
    "                pred += batch_pred\n",
    "                true += y.tolist()\n",
    "\n",
    "        return f1_score(true, pred, average='macro')"
   ]
  },
  {
   "cell_type": "code",
   "execution_count": 10,
   "metadata": {},
   "outputs": [
    {
     "name": "stdout",
     "output_type": "stream",
     "text": [
      "    index            ss\n",
      "0   Class  28431.001054\n",
      "1     V17   4887.567869\n",
      "2      V7   3031.531722\n",
      "3     V14   2715.521810\n",
      "4     V12   2449.949704\n",
      "5     V10   2440.117488\n",
      "6      V3   2318.483142\n",
      "7     V16   1623.472952\n",
      "8      V5   1020.893449\n",
      "9      V1    837.261995\n",
      "10    V11    817.454015\n",
      "11    V27    811.313837\n",
      "12    V18    720.152848\n",
      "13     V4    627.950347\n",
      "14     V8    610.439513\n",
      "15     V2    486.825038\n",
      "16     V9    445.115537\n",
      "17    V21    427.996096\n",
      "18    V19    158.207126\n",
      "19    V28    124.140565\n",
      "20     V6     96.866704\n",
      "21    V20     85.070018\n",
      "22    V22     69.728692\n",
      "23    V25     62.262633\n",
      "24    V23     56.806406\n",
      "25    V15     51.495540\n",
      "26    V26     41.461606\n",
      "27    V30     40.175201\n",
      "28    V13     37.993958\n",
      "29    V24     24.073152\n",
      "30    V29      9.806658\n"
     ]
    }
   ],
   "source": [
    "#표준화된 값의 제곱의 합이 클 수록 이상치들은 평균과 멀리 떨어져있다.\n",
    "#표준화 제곱합을 구해 작은 순서대로 나열하자. 값이 작을 수록 덜 중요한 column이라고 볼 수 있다.\n",
    "val_df_ss_frauds=val_df_ss_fraud**2\n",
    "val_df_ss_fraudss=val_df_ss_frauds.sum()\n",
    "val_in=pd.DataFrame({\"ss\":val_df_ss_fraudss})\n",
    "val_in=val_in.sort_values('ss',ascending=False)\n",
    "val_in=val_in.reset_index()\n",
    "\n",
    "print(val_in)"
   ]
  },
  {
   "cell_type": "code",
   "execution_count": 11,
   "metadata": {},
   "outputs": [
    {
     "name": "stdout",
     "output_type": "stream",
     "text": [
      "['V17']\n",
      "(28462, 2)\n",
      "['V17', 'V7']\n",
      "(28462, 3)\n",
      "['V17', 'V7', 'V14']\n",
      "(28462, 4)\n",
      "['V17', 'V7', 'V14', 'V12']\n",
      "(28462, 5)\n",
      "['V17', 'V7', 'V14', 'V12', 'V10']\n",
      "(28462, 6)\n",
      "['V17', 'V7', 'V14', 'V12', 'V10', 'V3']\n",
      "(28462, 7)\n",
      "['V17', 'V7', 'V14', 'V12', 'V10', 'V3', 'V16']\n",
      "(28462, 8)\n",
      "['V17', 'V7', 'V14', 'V12', 'V10', 'V3', 'V16', 'V5']\n",
      "(28462, 9)\n",
      "['V17', 'V7', 'V14', 'V12', 'V10', 'V3', 'V16', 'V5', 'V1']\n",
      "(28462, 10)\n",
      "['V17', 'V7', 'V14', 'V12', 'V10', 'V3', 'V16', 'V5', 'V1', 'V11']\n",
      "(28462, 11)\n",
      "['V17', 'V7', 'V14', 'V12', 'V10', 'V3', 'V16', 'V5', 'V1', 'V11', 'V27']\n",
      "(28462, 12)\n",
      "['V17', 'V7', 'V14', 'V12', 'V10', 'V3', 'V16', 'V5', 'V1', 'V11', 'V27', 'V18']\n",
      "(28462, 13)\n",
      "['V17', 'V7', 'V14', 'V12', 'V10', 'V3', 'V16', 'V5', 'V1', 'V11', 'V27', 'V18', 'V4']\n",
      "(28462, 14)\n",
      "['V17', 'V7', 'V14', 'V12', 'V10', 'V3', 'V16', 'V5', 'V1', 'V11', 'V27', 'V18', 'V4', 'V8']\n",
      "(28462, 15)\n",
      "['V17', 'V7', 'V14', 'V12', 'V10', 'V3', 'V16', 'V5', 'V1', 'V11', 'V27', 'V18', 'V4', 'V8', 'V2']\n",
      "(28462, 16)\n",
      "['V17', 'V7', 'V14', 'V12', 'V10', 'V3', 'V16', 'V5', 'V1', 'V11', 'V27', 'V18', 'V4', 'V8', 'V2', 'V9']\n",
      "(28462, 17)\n",
      "['V17', 'V7', 'V14', 'V12', 'V10', 'V3', 'V16', 'V5', 'V1', 'V11', 'V27', 'V18', 'V4', 'V8', 'V2', 'V9', 'V21']\n",
      "(28462, 18)\n",
      "['V17', 'V7', 'V14', 'V12', 'V10', 'V3', 'V16', 'V5', 'V1', 'V11', 'V27', 'V18', 'V4', 'V8', 'V2', 'V9', 'V21', 'V19']\n",
      "(28462, 19)\n",
      "['V17', 'V7', 'V14', 'V12', 'V10', 'V3', 'V16', 'V5', 'V1', 'V11', 'V27', 'V18', 'V4', 'V8', 'V2', 'V9', 'V21', 'V19', 'V28']\n",
      "(28462, 20)\n",
      "['V17', 'V7', 'V14', 'V12', 'V10', 'V3', 'V16', 'V5', 'V1', 'V11', 'V27', 'V18', 'V4', 'V8', 'V2', 'V9', 'V21', 'V19', 'V28', 'V6']\n",
      "(28462, 21)\n",
      "['V17', 'V7', 'V14', 'V12', 'V10', 'V3', 'V16', 'V5', 'V1', 'V11', 'V27', 'V18', 'V4', 'V8', 'V2', 'V9', 'V21', 'V19', 'V28', 'V6', 'V20']\n",
      "(28462, 22)\n",
      "['V17', 'V7', 'V14', 'V12', 'V10', 'V3', 'V16', 'V5', 'V1', 'V11', 'V27', 'V18', 'V4', 'V8', 'V2', 'V9', 'V21', 'V19', 'V28', 'V6', 'V20', 'V22']\n",
      "(28462, 23)\n",
      "['V17', 'V7', 'V14', 'V12', 'V10', 'V3', 'V16', 'V5', 'V1', 'V11', 'V27', 'V18', 'V4', 'V8', 'V2', 'V9', 'V21', 'V19', 'V28', 'V6', 'V20', 'V22', 'V25']\n",
      "(28462, 24)\n",
      "['V17', 'V7', 'V14', 'V12', 'V10', 'V3', 'V16', 'V5', 'V1', 'V11', 'V27', 'V18', 'V4', 'V8', 'V2', 'V9', 'V21', 'V19', 'V28', 'V6', 'V20', 'V22', 'V25', 'V23']\n",
      "(28462, 25)\n",
      "['V17', 'V7', 'V14', 'V12', 'V10', 'V3', 'V16', 'V5', 'V1', 'V11', 'V27', 'V18', 'V4', 'V8', 'V2', 'V9', 'V21', 'V19', 'V28', 'V6', 'V20', 'V22', 'V25', 'V23', 'V15']\n",
      "(28462, 26)\n",
      "['V17', 'V7', 'V14', 'V12', 'V10', 'V3', 'V16', 'V5', 'V1', 'V11', 'V27', 'V18', 'V4', 'V8', 'V2', 'V9', 'V21', 'V19', 'V28', 'V6', 'V20', 'V22', 'V25', 'V23', 'V15', 'V26']\n",
      "(28462, 27)\n",
      "['V17', 'V7', 'V14', 'V12', 'V10', 'V3', 'V16', 'V5', 'V1', 'V11', 'V27', 'V18', 'V4', 'V8', 'V2', 'V9', 'V21', 'V19', 'V28', 'V6', 'V20', 'V22', 'V25', 'V23', 'V15', 'V26', 'V30']\n",
      "(28462, 28)\n",
      "['V17', 'V7', 'V14', 'V12', 'V10', 'V3', 'V16', 'V5', 'V1', 'V11', 'V27', 'V18', 'V4', 'V8', 'V2', 'V9', 'V21', 'V19', 'V28', 'V6', 'V20', 'V22', 'V25', 'V23', 'V15', 'V26', 'V30', 'V13']\n",
      "(28462, 29)\n",
      "['V17', 'V7', 'V14', 'V12', 'V10', 'V3', 'V16', 'V5', 'V1', 'V11', 'V27', 'V18', 'V4', 'V8', 'V2', 'V9', 'V21', 'V19', 'V28', 'V6', 'V20', 'V22', 'V25', 'V23', 'V15', 'V26', 'V30', 'V13', 'V24']\n",
      "(28462, 30)\n",
      "['V17', 'V7', 'V14', 'V12', 'V10', 'V3', 'V16', 'V5', 'V1', 'V11', 'V27', 'V18', 'V4', 'V8', 'V2', 'V9', 'V21', 'V19', 'V28', 'V6', 'V20', 'V22', 'V25', 'V23', 'V15', 'V26', 'V30', 'V13', 'V24', 'V29']\n",
      "(28462, 31)\n"
     ]
    }
   ],
   "source": [
    "for i in range(1,s+1):\n",
    "    ran=range(1,i+1)\n",
    "    ind=val_in.loc[ran,:][\"index\"].tolist()\n",
    "    print(ind)\n",
    "    train_ma=train_df[ind]\n",
    "    val_ma=val_df[ind+['Class']]\n",
    "    print(val_ma.shape)\n"
   ]
  },
  {
   "cell_type": "code",
   "execution_count": 12,
   "metadata": {},
   "outputs": [],
   "source": [
    "#하이퍼파라미터 지정\n",
    "EPOCHS=400\n",
    "LR=1e-2\n",
    "BS=1\n",
    "SEED=41"
   ]
  },
  {
   "cell_type": "code",
   "execution_count": 15,
   "metadata": {},
   "outputs": [
    {
     "name": "stdout",
     "output_type": "stream",
     "text": [
      "['V17'] 행만 선택하여 계산한다.\n"
     ]
    },
    {
     "ename": "RuntimeError",
     "evalue": "CUDA error: out of memory\nCUDA kernel errors might be asynchronously reported at some other API call,so the stacktrace below might be incorrect.\nFor debugging consider passing CUDA_LAUNCH_BLOCKING=1.",
     "output_type": "error",
     "traceback": [
      "\u001b[0;31m---------------------------------------------------------------------------\u001b[0m",
      "\u001b[0;31mRuntimeError\u001b[0m                              Traceback (most recent call last)",
      "\u001b[0;32m<ipython-input-15-5b70459f5bb3>\u001b[0m in \u001b[0;36m<module>\u001b[0;34m\u001b[0m\n\u001b[1;32m     21\u001b[0m \u001b[0;34m\u001b[0m\u001b[0m\n\u001b[1;32m     22\u001b[0m     \u001b[0mtrainer\u001b[0m \u001b[0;34m=\u001b[0m \u001b[0mTrainer\u001b[0m\u001b[0;34m(\u001b[0m\u001b[0mmodel\u001b[0m\u001b[0;34m,\u001b[0m \u001b[0moptimizer\u001b[0m\u001b[0;34m,\u001b[0m \u001b[0mtrain_loader\u001b[0m\u001b[0;34m,\u001b[0m \u001b[0mval_loader\u001b[0m\u001b[0;34m,\u001b[0m \u001b[0mscheduler\u001b[0m\u001b[0;34m,\u001b[0m \u001b[0mdevice\u001b[0m\u001b[0;34m)\u001b[0m\u001b[0;34m\u001b[0m\u001b[0;34m\u001b[0m\u001b[0m\n\u001b[0;32m---> 23\u001b[0;31m     \u001b[0mtrainer\u001b[0m\u001b[0;34m.\u001b[0m\u001b[0mfit\u001b[0m\u001b[0;34m(\u001b[0m\u001b[0;34m)\u001b[0m\u001b[0;34m\u001b[0m\u001b[0;34m\u001b[0m\u001b[0m\n\u001b[0m",
      "\u001b[0;32m<ipython-input-9-8944dcaa4e74>\u001b[0m in \u001b[0;36mfit\u001b[0;34m(self)\u001b[0m\n\u001b[1;32m     11\u001b[0m \u001b[0;34m\u001b[0m\u001b[0m\n\u001b[1;32m     12\u001b[0m     \u001b[0;32mdef\u001b[0m \u001b[0mfit\u001b[0m\u001b[0;34m(\u001b[0m\u001b[0mself\u001b[0m\u001b[0;34m,\u001b[0m \u001b[0;34m)\u001b[0m\u001b[0;34m:\u001b[0m\u001b[0;34m\u001b[0m\u001b[0;34m\u001b[0m\u001b[0m\n\u001b[0;32m---> 13\u001b[0;31m         \u001b[0mself\u001b[0m\u001b[0;34m.\u001b[0m\u001b[0mmodel\u001b[0m\u001b[0;34m.\u001b[0m\u001b[0mto\u001b[0m\u001b[0;34m(\u001b[0m\u001b[0mself\u001b[0m\u001b[0;34m.\u001b[0m\u001b[0mdevice\u001b[0m\u001b[0;34m)\u001b[0m\u001b[0;34m\u001b[0m\u001b[0;34m\u001b[0m\u001b[0m\n\u001b[0m\u001b[1;32m     14\u001b[0m         \u001b[0mbest_score\u001b[0m \u001b[0;34m=\u001b[0m \u001b[0;36m0\u001b[0m\u001b[0;34m\u001b[0m\u001b[0;34m\u001b[0m\u001b[0m\n\u001b[1;32m     15\u001b[0m         \u001b[0;32mfor\u001b[0m \u001b[0mepoch\u001b[0m \u001b[0;32min\u001b[0m \u001b[0mrange\u001b[0m\u001b[0;34m(\u001b[0m\u001b[0mEPOCHS\u001b[0m\u001b[0;34m)\u001b[0m\u001b[0;34m:\u001b[0m\u001b[0;34m\u001b[0m\u001b[0;34m\u001b[0m\u001b[0m\n",
      "\u001b[0;32m/usr/local/lib/python3.6/dist-packages/torch/nn/modules/module.py\u001b[0m in \u001b[0;36mto\u001b[0;34m(self, *args, **kwargs)\u001b[0m\n\u001b[1;32m    897\u001b[0m             \u001b[0;32mreturn\u001b[0m \u001b[0mt\u001b[0m\u001b[0;34m.\u001b[0m\u001b[0mto\u001b[0m\u001b[0;34m(\u001b[0m\u001b[0mdevice\u001b[0m\u001b[0;34m,\u001b[0m \u001b[0mdtype\u001b[0m \u001b[0;32mif\u001b[0m \u001b[0mt\u001b[0m\u001b[0;34m.\u001b[0m\u001b[0mis_floating_point\u001b[0m\u001b[0;34m(\u001b[0m\u001b[0;34m)\u001b[0m \u001b[0;32mor\u001b[0m \u001b[0mt\u001b[0m\u001b[0;34m.\u001b[0m\u001b[0mis_complex\u001b[0m\u001b[0;34m(\u001b[0m\u001b[0;34m)\u001b[0m \u001b[0;32melse\u001b[0m \u001b[0;32mNone\u001b[0m\u001b[0;34m,\u001b[0m \u001b[0mnon_blocking\u001b[0m\u001b[0;34m)\u001b[0m\u001b[0;34m\u001b[0m\u001b[0;34m\u001b[0m\u001b[0m\n\u001b[1;32m    898\u001b[0m \u001b[0;34m\u001b[0m\u001b[0m\n\u001b[0;32m--> 899\u001b[0;31m         \u001b[0;32mreturn\u001b[0m \u001b[0mself\u001b[0m\u001b[0;34m.\u001b[0m\u001b[0m_apply\u001b[0m\u001b[0;34m(\u001b[0m\u001b[0mconvert\u001b[0m\u001b[0;34m)\u001b[0m\u001b[0;34m\u001b[0m\u001b[0;34m\u001b[0m\u001b[0m\n\u001b[0m\u001b[1;32m    900\u001b[0m \u001b[0;34m\u001b[0m\u001b[0m\n\u001b[1;32m    901\u001b[0m     def register_backward_hook(\n",
      "\u001b[0;32m/usr/local/lib/python3.6/dist-packages/torch/nn/modules/module.py\u001b[0m in \u001b[0;36m_apply\u001b[0;34m(self, fn)\u001b[0m\n\u001b[1;32m    568\u001b[0m     \u001b[0;32mdef\u001b[0m \u001b[0m_apply\u001b[0m\u001b[0;34m(\u001b[0m\u001b[0mself\u001b[0m\u001b[0;34m,\u001b[0m \u001b[0mfn\u001b[0m\u001b[0;34m)\u001b[0m\u001b[0;34m:\u001b[0m\u001b[0;34m\u001b[0m\u001b[0;34m\u001b[0m\u001b[0m\n\u001b[1;32m    569\u001b[0m         \u001b[0;32mfor\u001b[0m \u001b[0mmodule\u001b[0m \u001b[0;32min\u001b[0m \u001b[0mself\u001b[0m\u001b[0;34m.\u001b[0m\u001b[0mchildren\u001b[0m\u001b[0;34m(\u001b[0m\u001b[0;34m)\u001b[0m\u001b[0;34m:\u001b[0m\u001b[0;34m\u001b[0m\u001b[0;34m\u001b[0m\u001b[0m\n\u001b[0;32m--> 570\u001b[0;31m             \u001b[0mmodule\u001b[0m\u001b[0;34m.\u001b[0m\u001b[0m_apply\u001b[0m\u001b[0;34m(\u001b[0m\u001b[0mfn\u001b[0m\u001b[0;34m)\u001b[0m\u001b[0;34m\u001b[0m\u001b[0;34m\u001b[0m\u001b[0m\n\u001b[0m\u001b[1;32m    571\u001b[0m \u001b[0;34m\u001b[0m\u001b[0m\n\u001b[1;32m    572\u001b[0m         \u001b[0;32mdef\u001b[0m \u001b[0mcompute_should_use_set_data\u001b[0m\u001b[0;34m(\u001b[0m\u001b[0mtensor\u001b[0m\u001b[0;34m,\u001b[0m \u001b[0mtensor_applied\u001b[0m\u001b[0;34m)\u001b[0m\u001b[0;34m:\u001b[0m\u001b[0;34m\u001b[0m\u001b[0;34m\u001b[0m\u001b[0m\n",
      "\u001b[0;32m/usr/local/lib/python3.6/dist-packages/torch/nn/modules/module.py\u001b[0m in \u001b[0;36m_apply\u001b[0;34m(self, fn)\u001b[0m\n\u001b[1;32m    568\u001b[0m     \u001b[0;32mdef\u001b[0m \u001b[0m_apply\u001b[0m\u001b[0;34m(\u001b[0m\u001b[0mself\u001b[0m\u001b[0;34m,\u001b[0m \u001b[0mfn\u001b[0m\u001b[0;34m)\u001b[0m\u001b[0;34m:\u001b[0m\u001b[0;34m\u001b[0m\u001b[0;34m\u001b[0m\u001b[0m\n\u001b[1;32m    569\u001b[0m         \u001b[0;32mfor\u001b[0m \u001b[0mmodule\u001b[0m \u001b[0;32min\u001b[0m \u001b[0mself\u001b[0m\u001b[0;34m.\u001b[0m\u001b[0mchildren\u001b[0m\u001b[0;34m(\u001b[0m\u001b[0;34m)\u001b[0m\u001b[0;34m:\u001b[0m\u001b[0;34m\u001b[0m\u001b[0;34m\u001b[0m\u001b[0m\n\u001b[0;32m--> 570\u001b[0;31m             \u001b[0mmodule\u001b[0m\u001b[0;34m.\u001b[0m\u001b[0m_apply\u001b[0m\u001b[0;34m(\u001b[0m\u001b[0mfn\u001b[0m\u001b[0;34m)\u001b[0m\u001b[0;34m\u001b[0m\u001b[0;34m\u001b[0m\u001b[0m\n\u001b[0m\u001b[1;32m    571\u001b[0m \u001b[0;34m\u001b[0m\u001b[0m\n\u001b[1;32m    572\u001b[0m         \u001b[0;32mdef\u001b[0m \u001b[0mcompute_should_use_set_data\u001b[0m\u001b[0;34m(\u001b[0m\u001b[0mtensor\u001b[0m\u001b[0;34m,\u001b[0m \u001b[0mtensor_applied\u001b[0m\u001b[0;34m)\u001b[0m\u001b[0;34m:\u001b[0m\u001b[0;34m\u001b[0m\u001b[0;34m\u001b[0m\u001b[0m\n",
      "\u001b[0;32m/usr/local/lib/python3.6/dist-packages/torch/nn/modules/module.py\u001b[0m in \u001b[0;36m_apply\u001b[0;34m(self, fn)\u001b[0m\n\u001b[1;32m    568\u001b[0m     \u001b[0;32mdef\u001b[0m \u001b[0m_apply\u001b[0m\u001b[0;34m(\u001b[0m\u001b[0mself\u001b[0m\u001b[0;34m,\u001b[0m \u001b[0mfn\u001b[0m\u001b[0;34m)\u001b[0m\u001b[0;34m:\u001b[0m\u001b[0;34m\u001b[0m\u001b[0;34m\u001b[0m\u001b[0m\n\u001b[1;32m    569\u001b[0m         \u001b[0;32mfor\u001b[0m \u001b[0mmodule\u001b[0m \u001b[0;32min\u001b[0m \u001b[0mself\u001b[0m\u001b[0;34m.\u001b[0m\u001b[0mchildren\u001b[0m\u001b[0;34m(\u001b[0m\u001b[0;34m)\u001b[0m\u001b[0;34m:\u001b[0m\u001b[0;34m\u001b[0m\u001b[0;34m\u001b[0m\u001b[0m\n\u001b[0;32m--> 570\u001b[0;31m             \u001b[0mmodule\u001b[0m\u001b[0;34m.\u001b[0m\u001b[0m_apply\u001b[0m\u001b[0;34m(\u001b[0m\u001b[0mfn\u001b[0m\u001b[0;34m)\u001b[0m\u001b[0;34m\u001b[0m\u001b[0;34m\u001b[0m\u001b[0m\n\u001b[0m\u001b[1;32m    571\u001b[0m \u001b[0;34m\u001b[0m\u001b[0m\n\u001b[1;32m    572\u001b[0m         \u001b[0;32mdef\u001b[0m \u001b[0mcompute_should_use_set_data\u001b[0m\u001b[0;34m(\u001b[0m\u001b[0mtensor\u001b[0m\u001b[0;34m,\u001b[0m \u001b[0mtensor_applied\u001b[0m\u001b[0;34m)\u001b[0m\u001b[0;34m:\u001b[0m\u001b[0;34m\u001b[0m\u001b[0;34m\u001b[0m\u001b[0m\n",
      "\u001b[0;32m/usr/local/lib/python3.6/dist-packages/torch/nn/modules/module.py\u001b[0m in \u001b[0;36m_apply\u001b[0;34m(self, fn)\u001b[0m\n\u001b[1;32m    591\u001b[0m             \u001b[0;31m# `with torch.no_grad():`\u001b[0m\u001b[0;34m\u001b[0m\u001b[0;34m\u001b[0m\u001b[0;34m\u001b[0m\u001b[0m\n\u001b[1;32m    592\u001b[0m             \u001b[0;32mwith\u001b[0m \u001b[0mtorch\u001b[0m\u001b[0;34m.\u001b[0m\u001b[0mno_grad\u001b[0m\u001b[0;34m(\u001b[0m\u001b[0;34m)\u001b[0m\u001b[0;34m:\u001b[0m\u001b[0;34m\u001b[0m\u001b[0;34m\u001b[0m\u001b[0m\n\u001b[0;32m--> 593\u001b[0;31m                 \u001b[0mparam_applied\u001b[0m \u001b[0;34m=\u001b[0m \u001b[0mfn\u001b[0m\u001b[0;34m(\u001b[0m\u001b[0mparam\u001b[0m\u001b[0;34m)\u001b[0m\u001b[0;34m\u001b[0m\u001b[0;34m\u001b[0m\u001b[0m\n\u001b[0m\u001b[1;32m    594\u001b[0m             \u001b[0mshould_use_set_data\u001b[0m \u001b[0;34m=\u001b[0m \u001b[0mcompute_should_use_set_data\u001b[0m\u001b[0;34m(\u001b[0m\u001b[0mparam\u001b[0m\u001b[0;34m,\u001b[0m \u001b[0mparam_applied\u001b[0m\u001b[0;34m)\u001b[0m\u001b[0;34m\u001b[0m\u001b[0;34m\u001b[0m\u001b[0m\n\u001b[1;32m    595\u001b[0m             \u001b[0;32mif\u001b[0m \u001b[0mshould_use_set_data\u001b[0m\u001b[0;34m:\u001b[0m\u001b[0;34m\u001b[0m\u001b[0;34m\u001b[0m\u001b[0m\n",
      "\u001b[0;32m/usr/local/lib/python3.6/dist-packages/torch/nn/modules/module.py\u001b[0m in \u001b[0;36mconvert\u001b[0;34m(t)\u001b[0m\n\u001b[1;32m    895\u001b[0m                 return t.to(device, dtype if t.is_floating_point() or t.is_complex() else None,\n\u001b[1;32m    896\u001b[0m                             non_blocking, memory_format=convert_to_format)\n\u001b[0;32m--> 897\u001b[0;31m             \u001b[0;32mreturn\u001b[0m \u001b[0mt\u001b[0m\u001b[0;34m.\u001b[0m\u001b[0mto\u001b[0m\u001b[0;34m(\u001b[0m\u001b[0mdevice\u001b[0m\u001b[0;34m,\u001b[0m \u001b[0mdtype\u001b[0m \u001b[0;32mif\u001b[0m \u001b[0mt\u001b[0m\u001b[0;34m.\u001b[0m\u001b[0mis_floating_point\u001b[0m\u001b[0;34m(\u001b[0m\u001b[0;34m)\u001b[0m \u001b[0;32mor\u001b[0m \u001b[0mt\u001b[0m\u001b[0;34m.\u001b[0m\u001b[0mis_complex\u001b[0m\u001b[0;34m(\u001b[0m\u001b[0;34m)\u001b[0m \u001b[0;32melse\u001b[0m \u001b[0;32mNone\u001b[0m\u001b[0;34m,\u001b[0m \u001b[0mnon_blocking\u001b[0m\u001b[0;34m)\u001b[0m\u001b[0;34m\u001b[0m\u001b[0;34m\u001b[0m\u001b[0m\n\u001b[0m\u001b[1;32m    898\u001b[0m \u001b[0;34m\u001b[0m\u001b[0m\n\u001b[1;32m    899\u001b[0m         \u001b[0;32mreturn\u001b[0m \u001b[0mself\u001b[0m\u001b[0;34m.\u001b[0m\u001b[0m_apply\u001b[0m\u001b[0;34m(\u001b[0m\u001b[0mconvert\u001b[0m\u001b[0;34m)\u001b[0m\u001b[0;34m\u001b[0m\u001b[0;34m\u001b[0m\u001b[0m\n",
      "\u001b[0;31mRuntimeError\u001b[0m: CUDA error: out of memory\nCUDA kernel errors might be asynchronously reported at some other API call,so the stacktrace below might be incorrect.\nFor debugging consider passing CUDA_LAUNCH_BLOCKING=1."
     ]
    }
   ],
   "source": [
    "#중요한 열부터 하나씩 뽑아서 각 결과를 나타냈다.\n",
    "for i in range(1,s+1):\n",
    "    ran=range(1,i+1)\n",
    "    ind=val_in.loc[ran,:][\"index\"].tolist()\n",
    "    print(f'{ind} 행만 선택하여 계산한다.')\n",
    "    train_ma=train_df[ind]\n",
    "    val_ma=val_df[ind+['Class']]    \n",
    "\n",
    "    DIM=train_ma.shape[1]\n",
    "\n",
    "    train_dataset = MyDataset(df=train_ma, eval_mode=False)\n",
    "    train_loader = DataLoader(train_dataset, batch_size=BS, shuffle=True, num_workers=0)\n",
    "\n",
    "    val_dataset = MyDataset(df = val_ma, eval_mode=True)\n",
    "    val_loader = DataLoader(val_dataset, batch_size=BS, shuffle=False, num_workers=0)\n",
    "\n",
    "    model = nn.DataParallel(AutoEncoder(DIM))\n",
    "    model.eval()\n",
    "    optimizer = torch.optim.Adam(params = model.parameters(), lr = LR)\n",
    "    scheduler = torch.optim.lr_scheduler.ReduceLROnPlateau(optimizer, mode='max', factor=0.5, patience=10, threshold_mode='abs', min_lr=1e-8, verbose=True)\n",
    "\n",
    "    trainer = Trainer(model, optimizer, train_loader, val_loader, scheduler, device)\n",
    "    trainer.fit()"
   ]
  },
  {
   "cell_type": "markdown",
   "metadata": {},
   "source": [
    "- 확인 결과 17번째인 [\"V28\",\"V6\",\"V20\",\"V22\",\"V25\",\"V23\",\"V15\",\"V26\",\"V30\",\"V13\",\"V24\",\"V29\"] 열을 선택했을 때 좋은 결과가 나오면서 적절한 수의 column인 것을 확인할 수 있다.\n",
    "- 따라서 test set도 이 열만 골라서 autoencoder 모델을 시행하였다."
   ]
  },
  {
   "cell_type": "code",
   "execution_count": null,
   "metadata": {},
   "outputs": [],
   "source": [
    "model = AutoEncoder(DIM)\n",
    "model.load_state_dict(torch.load('./best_model.pth'))\n",
    "\n",
    "model = nn.DataParallel(model)\n",
    "model.eval()"
   ]
  },
  {
   "cell_type": "code",
   "execution_count": null,
   "metadata": {},
   "outputs": [],
   "source": [
    "#테스트 셋을 같은 모델로 돌려 사기거래를 찾는다.\n",
    "test_df = pd.read_csv('./input/test.csv')\n",
    "test_df = test_df.drop(columns=[\"ID\",\"V28\",\"V6\",\"V20\",\"V22\",\"V25\",\"V23\",\"V15\",\"V26\",\"V30\",\"V13\",\"V24\",\"V29\"])"
   ]
  },
  {
   "cell_type": "code",
   "execution_count": null,
   "metadata": {},
   "outputs": [],
   "source": [
    "test_dataset = MyDataset(test_df, False)\n",
    "test_loader = DataLoader(test_dataset, batch_size=BS, shuffle=False, num_workers=0)"
   ]
  },
  {
   "cell_type": "code",
   "execution_count": null,
   "metadata": {},
   "outputs": [],
   "source": [
    "def prediction(model, thr, test_loader, device):\n",
    "    model.to(device)\n",
    "    model.eval()\n",
    "    cos = nn.CosineSimilarity(dim=1, eps=1e-6)\n",
    "    pred = []\n",
    "    with torch.no_grad():\n",
    "        for x in iter(test_loader):\n",
    "            x = x.float().to(device)\n",
    "            \n",
    "            _x = model(x)\n",
    "            \n",
    "            diff = cos(x, _x).cpu().tolist()\n",
    "            batch_pred = np.where(np.array(diff)<thr, 1,0).tolist()\n",
    "            pred += batch_pred\n",
    "    return pred"
   ]
  },
  {
   "cell_type": "code",
   "execution_count": null,
   "metadata": {},
   "outputs": [],
   "source": [
    "preds = prediction(model, 0.95, test_loader, device)"
   ]
  },
  {
   "cell_type": "code",
   "execution_count": null,
   "metadata": {},
   "outputs": [],
   "source": [
    "#잘 예측됐는지 확인하기 위해 사기거래의 비율을 히스토그램과 숫자로 확인한다.\n",
    "plt.hist(preds)\n",
    "plt.show\n",
    "\n",
    "print(preds.count(1)/preds.count(0))"
   ]
  },
  {
   "cell_type": "code",
   "execution_count": null,
   "metadata": {},
   "outputs": [],
   "source": [
    "#제출하기 위해 제출파일을 저장한다.\n",
    "submit = pd.read_csv('./input/sample_submission.csv')\n",
    "submit['Class'] = preds\n",
    "submit.to_csv('./submit_autoencoder.csv', index=False)"
   ]
  }
 ],
 "metadata": {
  "kernelspec": {
   "display_name": "Python 3.6",
   "language": "python",
   "name": "python3.6"
  },
  "language_info": {
   "codemirror_mode": {
    "name": "ipython",
    "version": 3
   },
   "file_extension": ".py",
   "mimetype": "text/x-python",
   "name": "python",
   "nbconvert_exporter": "python",
   "pygments_lexer": "ipython3",
   "version": "3.6.13"
  }
 },
 "nbformat": 4,
 "nbformat_minor": 4
}
