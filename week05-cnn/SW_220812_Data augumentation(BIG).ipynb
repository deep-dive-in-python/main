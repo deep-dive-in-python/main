{
 "cells": [
  {
   "cell_type": "code",
   "execution_count": null,
   "id": "25ec71ff",
   "metadata": {},
   "outputs": [],
   "source": [
    "import pandas as pd\n",
    "import h5py\n",
    "import numpy as np\n",
    "from tqdm import tqdm"
   ]
  },
  {
   "cell_type": "code",
   "execution_count": null,
   "id": "b921baba",
   "metadata": {},
   "outputs": [],
   "source": [
    "train_df = pd.read_csv(\"C:/Users/김승우/Desktop/파이썬/dacon/3D MNIST Classification/train.csv\")\n",
    "train_df.head()"
   ]
  },
  {
   "cell_type": "code",
   "execution_count": null,
   "id": "b91c6cfe",
   "metadata": {},
   "outputs": [],
   "source": [
    "train_all = h5py.File(\"C:/Users/김승우/Desktop/파이썬/dacon/3D MNIST Classification/train.h5\", 'r')"
   ]
  },
  {
   "cell_type": "code",
   "execution_count": null,
   "id": "607672c6",
   "metadata": {},
   "outputs": [],
   "source": [
    "train_all= [np.array(train_all[str(i)]) for i in tqdm(train_df[\"ID\"])]"
   ]
  },
  {
   "cell_type": "code",
   "execution_count": null,
   "id": "43877d5a",
   "metadata": {},
   "outputs": [],
   "source": [
    "def rotate(a, b, c, dots):\n",
    "    mx = np.array([[1, 0, 0], [0, np.cos(a), -np.sin(a)], [0, np.sin(a), np.cos(a)]])\n",
    "    my = np.array([[np.cos(b), 0, np.sin(b)], [0, 1, 0], [-np.sin(b), 0, np.cos(b)]])\n",
    "    mz = np.array([[np.cos(c), -np.sin(c), 0], [np.sin(c), np.cos(c), 0], [0, 0, 1]])\n",
    "    m = np.dot(np.dot(mx,my),mz)\n",
    "    dots = np.dot(dots, m.T)\n",
    "    return dots\n"
   ]
  },
  {
   "cell_type": "code",
   "execution_count": null,
   "id": "8871cb08",
   "metadata": {},
   "outputs": [],
   "source": [
    "new_data_1=[]\n",
    "new_data_2=[]\n",
    "new_data_3=[]"
   ]
  },
  {
   "cell_type": "code",
   "execution_count": null,
   "id": "cfba3f93",
   "metadata": {},
   "outputs": [],
   "source": [
    "for j in range(1,4):\n",
    "    for i in train_df[\"ID\"] :\n",
    "        if j==1:new_data_1.append(rotate(-np.pi/2,0,0,train_all[i]))\n",
    "        if j==2:new_data_2.append(rotate(0,-np.pi/2,0,train_all[i]))    \n",
    "        if j==3:new_data_3.append(rotate(0,0,-np.pi/2,train_all[i]))   "
   ]
  },
  {
   "cell_type": "code",
   "execution_count": null,
   "id": "fb10df78",
   "metadata": {},
   "outputs": [],
   "source": [
    "hf_1=h5py.File('train_aug_1.h5','w')\n",
    "hf_2=h5py.File('train_aug_2.h5','w')\n",
    "hf_3=h5py.File('train_aug_3.h5','w')"
   ]
  },
  {
   "cell_type": "code",
   "execution_count": null,
   "id": "09a19f66",
   "metadata": {},
   "outputs": [],
   "source": [
    "for j in range(1,4):\n",
    "    for i in train_df[\"ID\"][0:500] :\n",
    "        if j==1:hf_1.create_dataset('data_{}'.format(i), data=new_data_1[i])\n",
    "        if j==2:hf_2.create_dataset('data_{}'.format(i), data=new_data_2[i])\n",
    "        if j==3:hf_3.create_dataset('data_{}'.format(i), data=new_data_3[i])    "
   ]
  },
  {
   "cell_type": "code",
   "execution_count": null,
   "id": "795fece3",
   "metadata": {},
   "outputs": [],
   "source": [
    "hf_1.close()\n",
    "hf_2.close()\n",
    "hf_3.close()"
   ]
  }
 ],
 "metadata": {
  "kernelspec": {
   "display_name": "Python 3 (ipykernel)",
   "language": "python",
   "name": "python3"
  },
  "language_info": {
   "codemirror_mode": {
    "name": "ipython",
    "version": 3
   },
   "file_extension": ".py",
   "mimetype": "text/x-python",
   "name": "python",
   "nbconvert_exporter": "python",
   "pygments_lexer": "ipython3",
   "version": "3.9.12"
  }
 },
 "nbformat": 4,
 "nbformat_minor": 5
}
